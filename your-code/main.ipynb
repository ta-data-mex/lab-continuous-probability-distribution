{
 "cells": [
  {
   "cell_type": "markdown",
   "metadata": {},
   "source": [
    "# Before your start:\n",
    "\n",
    "    Read the README.md file\n",
    "    Comment as much as you can and use the resources (README.md file)\n",
    "    Happy learning!"
   ]
  },
  {
   "cell_type": "markdown",
   "metadata": {},
   "source": [
    "In this exercise, we  will generate random numbers from the continuous disributions we learned in the lesson. There are two ways to generate random numbers:\n",
    "\n",
    "1. Using the numpy library \n",
    "1. using the Scipy library \n",
    "\n",
    "Use either or both of the lbraries in this exercise."
   ]
  },
  {
   "cell_type": "markdown",
   "metadata": {},
   "source": [
    "## Uniform Distribution\n",
    "\n",
    "To generate uniform random numbers between any two given values using scipy, we can either use the following code or the code that we have\n",
    "discussed in class:"
   ]
  },
  {
   "cell_type": "code",
   "execution_count": 1,
   "metadata": {},
   "outputs": [
    {
     "name": "stdout",
     "output_type": "stream",
     "text": [
      "[2.97072953 2.31837306 2.49742301 2.06964913 2.00085669 2.35411735\n",
      " 2.99172251 2.52966056 2.6798597  2.02824003]\n"
     ]
    }
   ],
   "source": [
    "from scipy.stats import uniform\n",
    "x = uniform.rvs(size=10)\n",
    "a = 2\n",
    "b = 3\n",
    "randoms  = a + (b-a)*x\n",
    "print(randoms)"
   ]
  },
  {
   "cell_type": "markdown",
   "metadata": {},
   "source": [
    "**Your task:**\n",
    "\n",
    "1. Based on the code above, write a function that generates uniformly distributed random numbers. There are several requirements for your function:\n",
    "    * It should accept 3 parameters: \n",
    "        * `bottom` - the lower boundary of the generated numbers\n",
    "        * `ceiling` - the upper boundary of the generated numbers\n",
    "        * `count` - how many numbers to generate\n",
    "    * It should return an array of uniformly distributed random numbers\n",
    "\n",
    "1. Call your function with 2 sets of params below:\n",
    "    * bottom=10, ceiling=15, count=100\n",
    "    * bottom=10, ceiling=60, count=1,000\n",
    "\n",
    "1. Plot the uniform distributions generated above using histograms, where x axis is the value and y axis is the count. Let the histogram's number of bins be 10.\n",
    "\n",
    "Your output should look like below:\n",
    "\n",
    "![uniform distribution](ud.png)"
   ]
  },
  {
   "cell_type": "code",
   "execution_count": 2,
   "metadata": {},
   "outputs": [],
   "source": [
    "def uni_rand(bottom, ceiling, count):\n",
    "    from scipy.stats import uniform\n",
    "    x = uniform.rvs(size=count)\n",
    "    return bottom + (ceiling-bottom)*x"
   ]
  },
  {
   "cell_type": "code",
   "execution_count": 3,
   "metadata": {},
   "outputs": [
    {
     "data": {
      "image/png": "[encoded data removed]",
      "text/plain": [
       "<Figure size 648x288 with 2 Axes>"
      ]
     },
     "metadata": {
      "needs_background": "light"
     },
     "output_type": "display_data"
    }
   ],
   "source": [
    "import matplotlib.pyplot as plt\n",
    "\n",
    "fig, axs = plt.subplots(1, 2, figsize=(9,4), sharey=True)\n",
    "axs[0].hist(uni_rand(10,15,100), bins=10)\n",
    "axs[1].hist(uni_rand(10,60,1_000), bins=10)\n",
    "plt.show();"
   ]
  },
  {
   "cell_type": "markdown",
   "metadata": {},
   "source": [
    "How are the two distributions different?"
   ]
  },
  {
   "cell_type": "code",
   "execution_count": 4,
   "metadata": {},
   "outputs": [],
   "source": [
    "# The second one show taller bars, which is normal since the sample is bigger"
   ]
  },
  {
   "cell_type": "markdown",
   "metadata": {},
   "source": [
    "## Normal Distribution\n",
    "\n",
    "1. In the same way in the Uniform Distribution challenge, write a function that generates normally distributed random numbers.\n",
    "1. Generate 1,000 normally distributed numbers with the average of 10 and standard deviation of 1\n",
    "1. Generate 1,000 normally distributed numbers with the average of 10 and standard deviation of 50\n",
    "2. Plot the distributions of the data generated.\n",
    "\n",
    "Expected output:\n",
    "\n",
    "![normal distribution](nd.png)"
   ]
  },
  {
   "cell_type": "code",
   "execution_count": 5,
   "metadata": {},
   "outputs": [],
   "source": [
    "def norm_rand(mean, stdev, count):\n",
    "    import numpy as np\n",
    "    return np.random.normal(loc=mean,scale=stdev,size=count)"
   ]
  },
  {
   "cell_type": "code",
   "execution_count": 6,
   "metadata": {},
   "outputs": [
    {
     "data": {
      "image/png": "[encoded data removed]",
      "text/plain": [
       "<Figure size 648x288 with 2 Axes>"
      ]
     },
     "metadata": {
      "needs_background": "light"
     },
     "output_type": "display_data"
    }
   ],
   "source": [
    "fig, axs = plt.subplots(1, 2, figsize=(9,4), sharey=True)\n",
    "axs[0].hist(norm_rand(10, 1, 1_000), bins=50)\n",
    "axs[1].hist(norm_rand(10, 50, 1_000), bins=50)\n",
    "plt.show();"
   ]
  },
  {
   "cell_type": "markdown",
   "metadata": {},
   "source": [
    "How are the two distributions different?"
   ]
  },
  {
   "cell_type": "code",
   "execution_count": 7,
   "metadata": {},
   "outputs": [],
   "source": [
    "# Since the samples are different, it's not the exact shape but the same distribution, eventhough\n",
    "# the second one spreads more through the x-axis, # which is coherent since the standard deviation\n",
    "# is larger. "
   ]
  },
  {
   "cell_type": "markdown",
   "metadata": {},
   "source": [
    "## Normal Distribution of Real Data\n",
    "\n",
    "In this challenge we are going to take a look the real data. We will use vehicles.csv file for this exercise"
   ]
  },
  {
   "cell_type": "markdown",
   "metadata": {},
   "source": [
    "First import vehicles.csv.\n",
    "Then plot the histograms for the following variables:\n",
    "\n",
    "1. Fuel Barrels/Year"
   ]
  },
  {
   "cell_type": "code",
   "execution_count": 31,
   "metadata": {},
   "outputs": [
    {
     "name": "stdout",
     "output_type": "stream",
     "text": [
      "<class 'pandas.core.frame.DataFrame'>\n",
      "RangeIndex: 35952 entries, 0 to 35951\n",
      "Data columns (total 15 columns):\n",
      " #   Column                   Non-Null Count  Dtype  \n",
      "---  ------                   --------------  -----  \n",
      " 0   Make                     35952 non-null  object \n",
      " 1   Model                    35952 non-null  object \n",
      " 2   Year                     35952 non-null  int64  \n",
      " 3   Engine Displacement      35952 non-null  float64\n",
      " 4   Cylinders                35952 non-null  float64\n",
      " 5   Transmission             35952 non-null  object \n",
      " 6   Drivetrain               35952 non-null  object \n",
      " 7   Vehicle Class            35952 non-null  object \n",
      " 8   Fuel Type                35952 non-null  object \n",
      " 9   Fuel Barrels/Year        35952 non-null  float64\n",
      " 10  City MPG                 35952 non-null  int64  \n",
      " 11  Highway MPG              35952 non-null  int64  \n",
      " 12  Combined MPG             35952 non-null  int64  \n",
      " 13  CO2 Emission Grams/Mile  35952 non-null  float64\n",
      " 14  Fuel Cost/Year           35952 non-null  int64  \n",
      "dtypes: float64(4), int64(5), object(6)\n",
      "memory usage: 4.1+ MB\n"
     ]
    }
   ],
   "source": [
    "import pandas as pd\n",
    "\n",
    "vehicles = pd.read_csv('vehicles.csv')\n",
    "vehicles.info()"
   ]
  },
  {
   "cell_type": "code",
   "execution_count": 63,
   "metadata": {},
   "outputs": [
    {
     "name": "stderr",
     "output_type": "stream",
     "text": [
      "C:\\Users\\Alejandro\\AppData\\Local\\Programs\\Python\\Python310\\lib\\site-packages\\seaborn\\distributions.py:2619: FutureWarning: `distplot` is a deprecated function and will be removed in a future version. Please adapt your code to use either `displot` (a figure-level function with similar flexibility) or `histplot` (an axes-level function for histograms).\n",
      "  warnings.warn(msg, FutureWarning)\n"
     ]
    },
    {
     "data": {
      "image/png": "[encoded data removed]",
      "text/plain": [
       "<Figure size 432x288 with 1 Axes>"
      ]
     },
     "metadata": {
      "needs_background": "light"
     },
     "output_type": "display_data"
    }
   ],
   "source": [
    "import seaborn as sns\n",
    "\n",
    "sns.distplot(vehicles['Fuel Barrels/Year'], hist=True, bins=25)\n",
    "plt.show();"
   ]
  },
  {
   "cell_type": "markdown",
   "metadata": {},
   "source": [
    "2. CO2 Emission Grams/Mile "
   ]
  },
  {
   "cell_type": "code",
   "execution_count": 70,
   "metadata": {},
   "outputs": [
    {
     "name": "stderr",
     "output_type": "stream",
     "text": [
      "C:\\Users\\Alejandro\\AppData\\Local\\Programs\\Python\\Python310\\lib\\site-packages\\seaborn\\distributions.py:2619: FutureWarning: `distplot` is a deprecated function and will be removed in a future version. Please adapt your code to use either `displot` (a figure-level function with similar flexibility) or `histplot` (an axes-level function for histograms).\n",
      "  warnings.warn(msg, FutureWarning)\n"
     ]
    },
    {
     "data": {
      "image/png": "[encoded data removed]",
      "text/plain": [
       "<Figure size 432x288 with 1 Axes>"
      ]
     },
     "metadata": {
      "needs_background": "light"
     },
     "output_type": "display_data"
    }
   ],
   "source": [
    "sns.distplot(vehicles['CO2 Emission Grams/Mile'], bins=25)\n",
    "plt.show();"
   ]
  },
  {
   "cell_type": "markdown",
   "metadata": {},
   "source": [
    "3. Combined MPG"
   ]
  },
  {
   "cell_type": "code",
   "execution_count": 68,
   "metadata": {},
   "outputs": [
    {
     "name": "stderr",
     "output_type": "stream",
     "text": [
      "C:\\Users\\Alejandro\\AppData\\Local\\Programs\\Python\\Python310\\lib\\site-packages\\seaborn\\distributions.py:2619: FutureWarning: `distplot` is a deprecated function and will be removed in a future version. Please adapt your code to use either `displot` (a figure-level function with similar flexibility) or `histplot` (an axes-level function for histograms).\n",
      "  warnings.warn(msg, FutureWarning)\n"
     ]
    },
    {
     "data": {
      "image/png": "[encoded data removed]",
      "text/plain": [
       "<Figure size 432x288 with 1 Axes>"
      ]
     },
     "metadata": {
      "needs_background": "light"
     },
     "output_type": "display_data"
    }
   ],
   "source": [
    "sns.distplot(vehicles['Combined MPG'], bins=25)\n",
    "plt.show();"
   ]
  },
  {
   "cell_type": "markdown",
   "metadata": {},
   "source": [
    "Which one(s) of the variables are nearly normally distributed? How do you know?"
   ]
  },
  {
   "cell_type": "code",
   "execution_count": 12,
   "metadata": {},
   "outputs": [],
   "source": [
    "# your answer here"
   ]
  },
  {
   "cell_type": "markdown",
   "metadata": {},
   "source": [
    "## Exponential Distribution"
   ]
  },
  {
   "cell_type": "markdown",
   "metadata": {},
   "source": [
    "1. Using `numpy.random.exponential`, create a function that returns a list of numbers exponentially distributed with the mean of 10. \n",
    "\n",
    "1. Use the function to generate two number sequences with the size of 1 and 100.\n",
    "\n",
    "1. Plot the distributions as histograms with the nubmer of bins as 100.\n",
    "\n",
    "Your output should look like below:\n",
    "\n",
    "![exponential distribution](ed.png)"
   ]
  },
  {
   "cell_type": "code",
   "execution_count": 72,
   "metadata": {},
   "outputs": [],
   "source": [
    "def exp_rand(mean, size):\n",
    "    import numpy as np\n",
    "    return np.random.exponential(scale=mean, size=size)"
   ]
  },
  {
   "cell_type": "code",
   "execution_count": 97,
   "metadata": {},
   "outputs": [
    {
     "data": {
      "image/png": "[encoded data removed]",
      "text/plain": [
       "<Figure size 648x288 with 2 Axes>"
      ]
     },
     "metadata": {
      "needs_background": "light"
     },
     "output_type": "display_data"
    }
   ],
   "source": [
    "fig, axs = plt.subplots(1, 2, figsize=(9,4), sharey=True)\n",
    "axs[0].hist(exp_rand(10, 1_000), bins=100)\n",
    "axs[1].hist(exp_rand(10, 10_000), bins=100)\n",
    "plt.show();"
   ]
  },
  {
   "cell_type": "markdown",
   "metadata": {},
   "source": [
    "How are the two distributions different?"
   ]
  },
  {
   "cell_type": "code",
   "execution_count": 14,
   "metadata": {},
   "outputs": [],
   "source": [
    "# your answer here"
   ]
  },
  {
   "cell_type": "markdown",
   "metadata": {},
   "source": [
    "## Exponential Distribution of Real Data\n",
    "\n",
    "Suppose that the amount of time one spends in a bank is exponentially distributed with mean as 10 minutes (i.e. λ = 1/10). What is the probability that a customer will spend less than fifteen minutes in the bank? \n",
    "\n",
    "Write a code in python to solve this problem"
   ]
  },
  {
   "cell_type": "code",
   "execution_count": 98,
   "metadata": {},
   "outputs": [],
   "source": [
    "from scipy.stats import expon"
   ]
  },
  {
   "cell_type": "code",
   "execution_count": 119,
   "metadata": {},
   "outputs": [
    {
     "data": {
      "text/plain": [
       "0.7768698398515702"
      ]
     },
     "execution_count": 119,
     "metadata": {},
     "output_type": "execute_result"
    }
   ],
   "source": [
    "expon(scale=10).cdf(15)"
   ]
  },
  {
   "cell_type": "markdown",
   "metadata": {},
   "source": [
    "What is the probability that the customer will spend more than 15 minutes"
   ]
  },
  {
   "cell_type": "code",
   "execution_count": 120,
   "metadata": {},
   "outputs": [
    {
     "name": "stdout",
     "output_type": "stream",
     "text": [
      "0.2231301601484298\n"
     ]
    }
   ],
   "source": [
    "print(1 - expon(scale=10).cdf(15))"
   ]
  }
 ],
 "metadata": {
  "kernelspec": {
   "display_name": "Python 3",
   "language": "python",
   "name": "python3"
  },
  "language_info": {
   "codemirror_mode": {
    "name": "ipython",
    "version": 3
   },
   "file_extension": ".py",
   "mimetype": "text/x-python",
   "name": "python",
   "nbconvert_exporter": "python",
   "pygments_lexer": "ipython3",
   "version": "3.10.3"
  }
 },
 "nbformat": 4,
 "nbformat_minor": 2
}
