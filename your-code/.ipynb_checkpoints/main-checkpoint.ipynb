{
 "cells": [
  {
   "cell_type": "markdown",
   "metadata": {},
   "source": [
    "# Before your start:\n",
    "\n",
    "    Read the README.md file\n",
    "    Comment as much as you can and use the resources (README.md file)\n",
    "    Happy learning!"
   ]
  },
  {
   "cell_type": "markdown",
   "metadata": {},
   "source": [
    "In this exercise, we  will generate random numbers from the continuous disributions we learned in the lesson. There are two ways to generate random numbers:\n",
    "\n",
    "1. Using the numpy library \n",
    "1. using the Scipy library \n",
    "\n",
    "Use either or both of the lbraries in this exercise."
   ]
  },
  {
   "cell_type": "markdown",
   "metadata": {},
   "source": [
    "## Uniform Distribution\n",
    "\n",
    "To generate uniform random numbers between any two given values using scipy, we can either use the following code or the code that we have\n",
    "discussed in class:"
   ]
  },
  {
   "cell_type": "code",
   "execution_count": 4,
   "metadata": {},
   "outputs": [
    {
     "name": "stdout",
     "output_type": "stream",
     "text": [
      "[2.45448716 2.98479092 2.71186036 2.45403407 2.64175283 2.33316441\n",
      " 2.40056379 2.00161456 2.83203028 2.38668079]\n"
     ]
    }
   ],
   "source": [
    "from scipy.stats import uniform\n",
    "x = uniform.rvs(size=10)\n",
    "a = 2\n",
    "b = 3\n",
    "randoms  = a + (b-a)*x\n",
    "print(randoms)"
   ]
  },
  {
   "cell_type": "code",
   "execution_count": 6,
   "metadata": {},
   "outputs": [],
   "source": [
    "import matplotlib.pyplot as plt\n",
    "import seaborn as sns"
   ]
  },
  {
   "cell_type": "markdown",
   "metadata": {},
   "source": [
    "**Your task:**\n",
    "\n",
    "1. Based on the code above, write a function that generates uniformly distributed random numbers. There are several requirements for your function:\n",
    "    * It should accept 3 parameters: \n",
    "        * `bottom` - the lower boundary of the generated numbers\n",
    "        * `ceiling` - the upper boundary of the generated numbers\n",
    "        * `count` - how many numbers to generate\n",
    "    * It should return an array of uniformly distributed random numbers\n",
    "\n",
    "1. Call your function with 2 sets of params below:\n",
    "    * bottom=10, ceiling=15, count=100\n",
    "    * bottom=10, ceiling=60, count=1,000\n",
    "\n",
    "1. Plot the uniform distributions generated above using histograms, where x axis is the value and y axis is the count. Let the histogram's number of bins be 10.\n",
    "\n",
    "Your output should look like below:\n",
    "\n",
    "![uniform distribution](ud.png)"
   ]
  },
  {
   "cell_type": "code",
   "execution_count": 20,
   "metadata": {},
   "outputs": [],
   "source": [
    "# your code here\n",
    "def valores_aleatorios(bottom,ceiling,count):\n",
    "    x = uniform.rvs(size=count)\n",
    "    randoms = bottom + (ceiling-bottom)*x\n",
    "    return randoms\n"
   ]
  },
  {
   "cell_type": "code",
   "execution_count": 21,
   "metadata": {
    "collapsed": true
   },
   "outputs": [
    {
     "data": {
      "text/plain": [
       "array([14.52102445, 10.77764561, 10.81547782, 12.97980277, 10.94071152,\n",
       "       10.92735575, 10.93105407, 12.22592355, 11.86022036, 14.35344191,\n",
       "       10.56414899, 10.52065896, 12.13004455, 14.92326272, 12.77737398,\n",
       "       10.92833754, 13.59308698, 14.15091787, 10.50933746, 11.994008  ,\n",
       "       10.29657217, 14.66650393, 11.37072556, 11.90786169, 10.31239661,\n",
       "       12.09374849, 13.89991024, 12.53438697, 12.76184969, 13.30245512,\n",
       "       13.33692867, 12.41549264, 14.89813161, 11.23876946, 14.93293504,\n",
       "       11.55225875, 11.98340779, 13.73003994, 14.64164187, 13.86043171,\n",
       "       14.03729404, 11.8400426 , 11.3909974 , 12.24407619, 11.38103999,\n",
       "       13.63693013, 12.31399971, 14.7069891 , 12.73475312, 14.18772429,\n",
       "       10.20880755, 12.8492461 , 11.02586226, 13.17124109, 14.18207102,\n",
       "       11.43068316, 14.59745852, 13.37008393, 14.56497662, 13.99650559,\n",
       "       14.52994361, 11.49943727, 14.04569852, 13.68942749, 11.81661373,\n",
       "       10.81226766, 10.66867549, 12.45253823, 10.25728567, 14.96141061,\n",
       "       14.78119702, 12.25942235, 11.26205671, 13.61861589, 11.72331331,\n",
       "       14.41480816, 11.22499884, 11.06890603, 10.23947805, 10.27689026,\n",
       "       14.53039613, 14.32055142, 10.54184512, 12.09643373, 13.5673521 ,\n",
       "       14.81334367, 13.15406348, 13.65783133, 13.54351025, 12.40748215,\n",
       "       10.30893765, 13.36938244, 14.01060159, 12.44021838, 12.16048621,\n",
       "       10.58134879, 10.80534217, 13.83653309, 10.44240011, 11.08181475])"
      ]
     },
     "execution_count": 21,
     "metadata": {},
     "output_type": "execute_result"
    }
   ],
   "source": [
    "primer_set = valores_aleatorios(10, 15, 100)\n",
    "primer_set"
   ]
  },
  {
   "cell_type": "code",
   "execution_count": 26,
   "metadata": {
    "collapsed": true
   },
   "outputs": [
    {
     "data": {
      "text/plain": [
       "array([54.04763957, 59.63710117, 47.07951773, 37.39350622, 41.29372947,\n",
       "       39.09015753, 29.72377204, 19.31069093, 18.61390411, 13.12282837,\n",
       "       15.75198246, 16.25749582, 30.72968069, 27.53874033, 30.68034626,\n",
       "       15.30640784, 38.61622984, 37.39952231, 18.7021863 , 27.32198759,\n",
       "       24.42795318, 18.32319863, 55.89736259, 14.04773316, 44.43977316,\n",
       "       57.03810963, 57.94826454, 24.24625662, 49.50335793, 29.07294724,\n",
       "       11.88535301, 52.35722065, 50.76443684, 40.85964265, 42.01624583,\n",
       "       54.1472079 , 56.27076671, 38.39722069, 54.80271725, 43.77767095,\n",
       "       37.19211871, 22.38261178, 19.23705461, 26.51927208, 26.16891821,\n",
       "       49.45226652, 33.25665863, 22.32081281, 31.73502289, 48.89987658,\n",
       "       16.93471588, 51.7538962 , 44.13331766, 13.50284717, 35.26704854,\n",
       "       49.22896574, 51.27149268, 19.66592388, 50.49353475, 10.54890979,\n",
       "       32.3931397 , 46.91621459, 49.42733762, 28.30226166, 40.95708481,\n",
       "       50.25032163, 38.4390575 , 16.96219509, 23.43675948, 41.73479174,\n",
       "       43.9587001 , 23.83096923, 53.44600343, 52.58337008, 33.1796716 ,\n",
       "       36.32110047, 39.97151528, 57.91554194, 17.29300466, 51.27949939,\n",
       "       59.79743106, 41.39664198, 35.31150301, 24.30451347, 51.58100118,\n",
       "       43.78297833, 30.21247353, 16.35574609, 42.92223333, 47.40988284,\n",
       "       46.22132281, 25.77406416, 16.37706568, 43.74628208, 21.13221431,\n",
       "       33.83939136, 13.75894089, 49.16910704, 25.38770464, 34.43723162,\n",
       "       23.83117196, 53.28417243, 30.1924336 , 50.19898444, 10.90528596,\n",
       "       33.22284559, 46.01156461, 29.26808845, 12.91231112, 10.11446117,\n",
       "       41.2597712 , 58.98907912, 37.58522847, 58.90723844, 32.07355147,\n",
       "       49.43862435, 25.88643362, 53.30029006, 23.90668415, 36.87375511,\n",
       "       19.88272472, 36.50538703, 57.73688727, 11.59135627, 35.94494058,\n",
       "       25.93384688, 24.6310014 , 23.39820927, 10.10159728, 26.57347811,\n",
       "       12.81840711, 53.87647416, 38.22541873, 48.84807935, 51.83447931,\n",
       "       47.10293162, 10.30776468, 34.35580309, 51.91181794, 31.79065524,\n",
       "       56.38339861, 53.42483369, 23.16485167, 38.32945358, 11.73213764,\n",
       "       49.49762981, 41.18331256, 45.70818152, 59.11568019, 56.73699824,\n",
       "       25.11521075, 41.08360149, 54.79539938, 42.82575801, 58.19523012,\n",
       "       41.19254788, 25.23266946, 46.41677391, 24.98142895, 13.15839448,\n",
       "       37.43260728, 30.72982979, 42.85969301, 16.41937964, 50.71935188,\n",
       "       15.51203153, 34.31334321, 29.85708289, 13.74847613, 46.68592399,\n",
       "       10.87068888, 20.78772077, 58.96931336, 12.61927172, 30.53481939,\n",
       "       36.72287989, 43.89668502, 23.22887552, 10.33586615, 24.74290192,\n",
       "       43.30357046, 23.426464  , 27.59549086, 26.70700478, 18.58775486,\n",
       "       50.0089702 , 32.45615287, 55.14270129, 45.27986665, 57.36372677,\n",
       "       52.36622244, 58.18311734, 16.18040261, 49.46907651, 18.54737621,\n",
       "       52.76186169, 28.31306281, 54.2494501 , 39.55634528, 12.37069977,\n",
       "       45.56369246, 28.90124623, 30.56364171, 50.95768948, 58.88611407,\n",
       "       12.63264761, 43.59798625, 56.04151824, 40.49511572, 43.67356354,\n",
       "       44.73597197, 57.04144472, 29.03168562, 54.47477456, 29.776196  ,\n",
       "       22.25797077, 34.84790953, 43.1126048 , 23.15526838, 26.3428619 ,\n",
       "       56.71340365, 12.38216693, 43.68398883, 30.40511305, 42.06678379,\n",
       "       15.0328781 , 11.69670442, 51.14235317, 13.24801564, 41.55998594,\n",
       "       49.23267438, 11.8765446 , 39.11677175, 10.56387348, 39.28492353,\n",
       "       16.40634332, 59.81983172, 32.27849697, 49.1144073 , 58.96344593,\n",
       "       49.41420903, 14.05866991, 54.33477093, 25.64221281, 17.25861812,\n",
       "       24.896951  , 42.67412647, 59.35155395, 16.84875908, 17.65975547,\n",
       "       57.56422923, 45.94705883, 11.502836  , 32.99944029, 20.30776775,\n",
       "       28.52873302, 55.47932286, 21.27427526, 54.88499564, 25.30083662,\n",
       "       17.6140232 , 40.80250141, 59.99825743, 27.2400712 , 29.17141797,\n",
       "       36.15770888, 30.1327232 , 46.33190526, 43.77712326, 18.86649038,\n",
       "       31.92673887, 43.95652799, 15.39719374, 36.44073182, 28.15293342,\n",
       "       42.50056062, 22.86106457, 53.31381604, 22.00437135, 20.67368054,\n",
       "       28.28590498, 57.81279188, 57.30029553, 43.06549999, 10.45575113,\n",
       "       49.47313678, 53.76583533, 33.47676434, 56.89878725, 59.00464117,\n",
       "       10.41157269, 39.90381915, 14.29128243, 12.54547015, 36.04128913,\n",
       "       15.51809311, 31.87056232, 21.87582294, 53.05085454, 10.49851987,\n",
       "       53.01292898, 16.6951774 , 17.78659209, 55.21582338, 21.69393588,\n",
       "       29.56650353, 13.81621961, 49.74083655, 13.18148292, 17.36463682,\n",
       "       24.75448115, 25.79506259, 33.86486603, 19.08273505, 57.11230853,\n",
       "       35.68024555, 15.97833404, 46.11450368, 10.10158588, 33.93354208,\n",
       "       12.97418194, 59.78379496, 18.62430233, 52.13091691, 19.61384101,\n",
       "       59.80151845, 55.82974701, 49.70656705, 34.92662257, 46.20673386,\n",
       "       49.82888674, 57.63901143, 38.22439687, 41.10411689, 14.81670471,\n",
       "       45.78074854, 50.5373268 , 22.06430547, 44.18521045, 50.15348457,\n",
       "       16.84597403, 45.75215229, 35.36934155, 18.84598536, 47.81309013,\n",
       "       45.09559817, 49.91970718, 28.85176507, 17.20151884, 15.19704445,\n",
       "       57.03715887, 22.31019966, 42.98241612, 11.54416854, 59.03092978,\n",
       "       32.0036638 , 17.77499231, 33.03344001, 40.00109437, 57.37768133,\n",
       "       19.44758371, 47.04834538, 44.88286897, 53.89500789, 59.27385047,\n",
       "       23.40241953, 31.85683741, 20.96419639, 54.01203516, 26.72920941,\n",
       "       10.04282289, 37.75939455, 43.00056471, 10.85441136, 31.76914963,\n",
       "       26.29676178, 51.34601868, 28.58475836, 20.63663855, 22.46927722,\n",
       "       31.84559428, 56.80109379, 33.09552886, 50.20886366, 19.82309731,\n",
       "       53.66381943, 12.44920689, 12.63468925, 55.80175457, 21.94438008,\n",
       "       40.53920021, 51.50648188, 38.85354574, 56.47106124, 41.89744322,\n",
       "       23.18697325, 28.68822927, 48.63470249, 33.67985036, 31.87283938,\n",
       "       46.89616648, 45.82088011, 11.11374327, 33.9071308 , 54.41933761,\n",
       "       12.57551959, 55.09907383, 19.25013363, 38.53179888, 36.3015034 ,\n",
       "       45.04426272, 36.04297449, 14.46870696, 18.79215663, 10.85346199,\n",
       "       48.53187255, 19.93777587, 51.64181128, 34.89223879, 13.183817  ,\n",
       "       21.30081263, 19.14259703, 15.96453647, 50.70535508, 52.91997986,\n",
       "       34.91651322, 15.99357115, 41.47183764, 59.78737152, 31.91125693,\n",
       "       54.39500397, 20.52051283, 14.00444279, 47.21907313, 45.5493809 ,\n",
       "       31.18308702, 28.74708975, 14.16443303, 40.28719502, 35.17414851,\n",
       "       32.62985964, 55.74071184, 29.02750456, 25.993478  , 32.09977548,\n",
       "       33.06594963, 51.96164805, 12.98930392, 42.46551028, 44.42608934,\n",
       "       48.85381482, 15.4868613 , 14.46973613, 45.7707205 , 20.37116236,\n",
       "       49.7971802 , 23.87909812, 19.46579578, 36.36995299, 54.34726821,\n",
       "       54.86346924, 22.9938768 , 46.64345174, 40.36988069, 12.91609032,\n",
       "       18.45615991, 45.9442941 , 58.29028109, 17.14676077, 28.95646021,\n",
       "       10.13219287, 55.94047537, 28.960887  , 55.64859703, 54.67673192,\n",
       "       41.84043443, 48.77194706, 36.12831465, 40.77377647, 58.9627865 ,\n",
       "       18.30078128, 59.91164579, 53.03295051, 36.02127977, 13.0513624 ,\n",
       "       16.98718738, 11.90430843, 12.85984366, 25.24598227, 31.80240645,\n",
       "       55.29256998, 22.3678819 , 19.83837149, 23.87273824, 27.91571436,\n",
       "       39.66408959, 47.4000119 , 13.67063058, 26.32522553, 29.90293613,\n",
       "       45.19717894, 53.80715392, 36.0324353 , 11.51514508, 43.31279885,\n",
       "       52.02474838, 19.47189206, 42.75391762, 49.82043996, 27.0083097 ,\n",
       "       42.65359138, 14.78236936, 36.73502648, 55.39075856, 59.48826995,\n",
       "       44.56059155, 12.99083346, 44.52771322, 25.47567969, 32.80815715,\n",
       "       30.54079906, 46.25730003, 26.19170164, 57.01402995, 13.54458969,\n",
       "       32.28556242, 51.51029735, 13.93924195, 38.64050565, 37.30264347,\n",
       "       23.59382347, 50.71519129, 31.02553889, 14.52399872, 41.65089224,\n",
       "       34.307183  , 26.73581229, 32.94407495, 49.21444292, 36.4895767 ,\n",
       "       43.74843434, 22.07559104, 22.06463464, 27.78876671, 52.39470303,\n",
       "       11.26051855, 26.04049184, 28.52884289, 35.02787326, 36.76827907,\n",
       "       51.26193769, 29.46317264, 48.03023962, 49.95419751, 49.08616985,\n",
       "       35.74555311, 23.8487996 , 51.97527832, 31.59878889, 51.40587908,\n",
       "       20.9598802 , 55.08024946, 52.38788357, 35.74124305, 39.51591592,\n",
       "       20.46080304, 29.66242417, 57.62966713, 49.41785755, 11.20545993,\n",
       "       36.85636527, 47.931783  , 39.26365561, 21.01940326, 28.77840557,\n",
       "       53.63219785, 59.35439876, 34.33350001, 33.77317277, 45.12342936,\n",
       "       52.3452922 , 28.99063455, 12.41136952, 59.55428329, 12.41458704,\n",
       "       17.6541465 , 51.89769991, 56.64324761, 17.02392988, 37.57023857,\n",
       "       55.00413165, 58.4050563 , 20.80506067, 34.48276859, 31.07547403,\n",
       "       26.21663948, 49.50358055, 37.12827243, 18.03691312, 25.33526239,\n",
       "       23.62586877, 59.10182146, 51.39060805, 47.37920055, 55.98474417,\n",
       "       54.19428277, 13.69137519, 18.30764355, 48.17074485, 21.94093875,\n",
       "       22.2774217 , 22.95949576, 18.45534479, 34.85306668, 57.06629566,\n",
       "       38.33125692, 18.67344319, 28.50273693, 27.24070579, 51.3140283 ,\n",
       "       49.01083209, 56.16775116, 32.77249572, 42.69443456, 58.30423113,\n",
       "       44.68640689, 27.59831319, 28.35268582, 45.09175988, 18.28861774,\n",
       "       29.41676547, 11.7188298 , 39.74242059, 20.21284873, 59.2212345 ,\n",
       "       28.10544877, 23.60635362, 10.48092313, 22.31551151, 36.97668203,\n",
       "       32.45239989, 48.36387018, 20.69781962, 17.48073129, 15.2436095 ,\n",
       "       51.90682063, 37.85086059, 49.62566538, 43.32246061, 39.03466136,\n",
       "       13.64922438, 13.60629531, 10.47672619, 34.49697426, 41.00458853,\n",
       "       30.18726022, 18.17146757, 19.68290815, 29.94633378, 20.42396699,\n",
       "       48.68898508, 31.34459502, 12.17598543, 21.39444267, 59.70364218,\n",
       "       19.61813722, 12.11577283, 19.05934496, 49.68655184, 25.93018181,\n",
       "       49.38414683, 52.82439201, 22.97870905, 55.74580867, 38.00495086,\n",
       "       16.59605423, 57.46790245, 17.23119758, 47.89293628, 49.47677367,\n",
       "       45.66627401, 36.45830005, 11.31099362, 19.0362859 , 47.30450886,\n",
       "       47.77028203, 44.37108118, 51.83762933, 25.03101612, 34.36352997,\n",
       "       21.68202642, 55.03852395, 38.49258926, 45.21726823, 23.32709847,\n",
       "       42.88948794, 14.39653628, 42.36480217, 39.89723149, 50.34277768,\n",
       "       35.72975036, 57.2682686 , 46.19964461, 55.70954686, 10.69850847,\n",
       "       16.51048854, 50.32944445, 21.43651488, 42.35140863, 37.03690468,\n",
       "       40.44103058, 40.17880891, 13.6035936 , 11.32924588, 53.72922993,\n",
       "       16.77437168, 49.95654886, 47.04048949, 47.02240752, 46.99837488,\n",
       "       34.72678434, 38.42287627, 40.27725441, 20.62024181, 59.4751281 ,\n",
       "       38.91149088, 10.81426598, 23.7588113 , 50.43560301, 22.88435814,\n",
       "       52.65735539, 27.41841975, 30.69099977, 28.49711215, 37.18681837,\n",
       "       48.27420437, 10.66376592, 24.84568974, 52.55317739, 25.8885633 ,\n",
       "       43.81494298, 51.42375111, 42.91049447, 15.61714126, 10.03629072,\n",
       "       20.46210116, 50.32688192, 29.39818826, 43.87188168, 53.87774535,\n",
       "       55.44505407, 46.00433868, 52.1595021 , 11.28023551, 49.60753642,\n",
       "       46.56294699, 39.04521475, 20.90653899, 41.91325393, 31.85999281,\n",
       "       12.23109768, 49.29925092, 10.90231725, 53.24029001, 35.92430334,\n",
       "       18.65135615, 47.89107613, 30.03237869, 26.75180491, 26.35012398,\n",
       "       10.86786904, 24.27850505, 11.89677873, 23.70537993, 37.58263206,\n",
       "       28.71311578, 58.34992425, 39.50458676, 47.42393723, 13.73394015,\n",
       "       14.77025183, 26.16761655, 16.94879982, 40.80354246, 25.01612318,\n",
       "       10.6586636 , 41.57426196, 23.21522722, 49.47232729, 14.52757294,\n",
       "       56.59182453, 10.96696335, 20.02392483, 30.62792393, 32.07289401,\n",
       "       16.01532656, 16.40184633, 39.57703261, 42.87027372, 46.44116406,\n",
       "       57.32943428, 44.32294664, 56.21690482, 46.15756556, 14.35387743,\n",
       "       29.73002991, 31.61626199, 23.60224954, 28.4584012 , 46.5564345 ,\n",
       "       43.72732681, 26.10663563, 23.02433152, 50.06137605, 30.27948394,\n",
       "       38.4827287 , 41.50728213, 53.868155  , 41.41976099, 57.43214706,\n",
       "       38.28679823, 53.7707783 , 43.70691532, 31.31253266, 26.79951909,\n",
       "       13.44787251, 50.11847622, 22.9388777 , 26.64384033, 43.05915391,\n",
       "       45.69872043, 42.40298238, 20.1530798 , 21.67229928, 56.04035662,\n",
       "       19.36075616, 18.03020646, 21.57648147, 35.76735616, 51.09213315,\n",
       "       41.21071443, 32.08669735, 43.81018689, 59.96536692, 41.84623807,\n",
       "       10.56953361, 16.11549595, 35.28033078, 10.11302505, 19.21512003,\n",
       "       28.10704795, 58.4125286 , 37.06729853, 29.21460584, 16.21955634,\n",
       "       28.39866015, 58.12106414, 26.78045411, 26.0996358 , 25.34671749,\n",
       "       30.10978187, 58.21669197, 41.75718627, 14.85302696, 41.76010032,\n",
       "       46.13098904, 25.49279771, 45.38527892, 24.64489053, 11.21225541,\n",
       "       10.02116276, 32.62238259, 10.98554493, 52.41229225, 35.84161208,\n",
       "       56.90078999, 26.05404243, 56.64219976, 30.28725256, 13.78923997,\n",
       "       38.09742747, 57.86541407, 49.67603034, 26.35220347, 57.97223449,\n",
       "       47.35428904, 28.28677041, 51.35797995, 17.91898963, 15.89619586,\n",
       "       24.31390617, 15.74142703, 29.19860747, 14.69156701, 42.08245558,\n",
       "       25.15446218, 20.41262169, 42.99126924, 51.51047489, 48.83062624,\n",
       "       40.85685193, 17.85166635, 58.33936946, 51.63231257, 41.97851563,\n",
       "       29.3297537 , 38.02871887, 23.7347014 , 17.91342877, 52.54499632,\n",
       "       47.55619006, 23.12401411, 15.65183783, 33.2987478 , 19.28038411,\n",
       "       39.7088561 , 25.99224685, 28.12601212, 42.29677085, 34.88226558,\n",
       "       24.50778777, 21.8958535 , 43.64711447, 10.39716077, 57.73377231,\n",
       "       27.87649508, 18.98410151, 10.54321654, 13.17195425, 28.08976203,\n",
       "       34.30308325, 14.76496191, 59.77867387, 18.48431854, 48.17166561,\n",
       "       38.18715678, 47.94568344, 33.48870292, 21.43320924, 44.11599176,\n",
       "       30.06607987, 21.98740839, 17.2149997 , 43.16866707, 56.55459399,\n",
       "       53.9724777 , 20.49275093, 20.08119992, 24.62952137, 29.93008264,\n",
       "       57.70705907, 19.63406712, 47.21046353, 53.5533659 , 45.04582535,\n",
       "       47.66314576, 46.40617231, 31.98726271, 49.86182836, 32.68963392,\n",
       "       55.01366894, 49.16309794, 27.79924754, 15.33111043, 16.40698273,\n",
       "       28.37820127, 18.83453376, 14.41838442, 48.52563358, 46.12006947,\n",
       "       59.50791543, 19.76550786, 19.39013887, 43.6018935 , 31.16642441,\n",
       "       55.69216796, 21.00118837, 49.14974411, 36.01659351, 20.9585436 ,\n",
       "       55.98322555, 31.37322145, 43.40948062, 23.0943303 , 53.25336657,\n",
       "       24.84877502, 26.07496273, 53.79893263, 33.10318868, 28.25497109,\n",
       "       23.52779621, 31.32637299, 45.60936158, 18.78390143, 11.4110362 ,\n",
       "       26.73738497, 44.41958353, 35.1718458 , 33.60422298, 15.99895778])"
      ]
     },
     "execution_count": 26,
     "metadata": {},
     "output_type": "execute_result"
    }
   ],
   "source": [
    "segundo_set = valores_aleatorios(10, 60,1_000)\n",
    "segundo_set"
   ]
  },
  {
   "cell_type": "code",
   "execution_count": 27,
   "metadata": {},
   "outputs": [
    {
     "data": {
      "image/png": "[encoded data removed]",
      "text/plain": [
       "<Figure size 432x288 with 2 Axes>"
      ]
     },
     "metadata": {
      "needs_background": "light"
     },
     "output_type": "display_data"
    }
   ],
   "source": [
    "f, ax = plt.subplots(1,2, sharey=True)\n",
    "\n",
    "ax[0].hist(primer_set, bins=10)\n",
    "ax[1].hist(segundo_set, bins=10);\n",
    "\n"
   ]
  },
  {
   "cell_type": "markdown",
   "metadata": {},
   "source": [
    "How are the two distributions different?"
   ]
  },
  {
   "cell_type": "code",
   "execution_count": null,
   "metadata": {},
   "outputs": [],
   "source": [
    "# your answer below\n",
    "'''Son diferentes por el conteo, porque el ser1 son 100 valores y para el set 2 son 1000 \n",
    "por lo que hay mayor probabilidad que se repitan los bin'''"
   ]
  },
  {
   "cell_type": "markdown",
   "metadata": {},
   "source": [
    "## Normal Distribution\n",
    "\n",
    "1. In the same way in the Uniform Distribution challenge, write a function that generates normally distributed random numbers.\n",
    "1. Generate 1,000 normally distributed numbers with the average of 10 and standard deviation of 1\n",
    "1. Generate 1,000 normally distributed numbers with the average of 10 and standard deviation of 50\n",
    "2. Plot the distributions of the data generated.\n",
    "\n",
    "Expected output:\n",
    "\n",
    "![normal distribution](nd.png)"
   ]
  },
  {
   "cell_type": "code",
   "execution_count": 28,
   "metadata": {},
   "outputs": [
    {
     "data": {
      "text/plain": [
       "array([-1.13878115,  0.7988141 ,  0.81838822,  1.28690183, -0.39128985,\n",
       "        0.79032866, -1.06941206,  0.70738435, -0.34180871,  0.09628865])"
      ]
     },
     "execution_count": 28,
     "metadata": {},
     "output_type": "execute_result"
    }
   ],
   "source": [
    "from scipy.stats import norm\n",
    "r = norm.rvs(size=10)\n",
    "r"
   ]
  },
  {
   "cell_type": "code",
   "execution_count": 32,
   "metadata": {},
   "outputs": [],
   "source": [
    "# your code here\n",
    "def valores_aleatorios(mean,std_dev,count):\n",
    "    x = norm.rvs(size=count)\n",
    "    randoms = mean + (std_dev-mean)*x\n",
    "    return randoms\n"
   ]
  },
  {
   "cell_type": "code",
   "execution_count": 33,
   "metadata": {},
   "outputs": [],
   "source": [
    "set_1 = valores_aleatorios(10,1,1_000)\n",
    "set_2 = valores_aleatorios(10,50,1_000)\n"
   ]
  },
  {
   "cell_type": "code",
   "execution_count": 34,
   "metadata": {},
   "outputs": [
    {
     "data": {
      "image/png": "[encoded data removed]",
      "text/plain": [
       "<Figure size 432x288 with 2 Axes>"
      ]
     },
     "metadata": {
      "needs_background": "light"
     },
     "output_type": "display_data"
    }
   ],
   "source": [
    "f, ax = plt.subplots(1,2, sharey=True)\n",
    "\n",
    "ax[0].hist(set_1, bins=50)\n",
    "ax[1].hist(set_2, bins=50);\n",
    "\n"
   ]
  },
  {
   "cell_type": "code",
   "execution_count": null,
   "metadata": {},
   "outputs": [],
   "source": []
  },
  {
   "cell_type": "markdown",
   "metadata": {},
   "source": [
    "How are the two distributions different?"
   ]
  },
  {
   "cell_type": "code",
   "execution_count": null,
   "metadata": {},
   "outputs": [],
   "source": [
    "# your answer below\n",
    "\n",
    "'''Son diferentes por los valores que se muestran en el eje de las X debido a la diferencia en las desv estandar'''"
   ]
  },
  {
   "cell_type": "markdown",
   "metadata": {},
   "source": [
    "## Normal Distribution of Real Data\n",
    "\n",
    "In this challenge we are going to take a look the real data. We will use vehicles.csv file for this exercise"
   ]
  },
  {
   "cell_type": "markdown",
   "metadata": {},
   "source": [
    "First import vehicles.csv.\n",
    "Then plot the histograms for the following variables:\n",
    "\n",
    "1. Fuel Barrels/Year"
   ]
  },
  {
   "cell_type": "code",
   "execution_count": 15,
   "metadata": {},
   "outputs": [],
   "source": [
    "import numpy as np\n",
    "import pandas as pd"
   ]
  },
  {
   "cell_type": "code",
   "execution_count": 16,
   "metadata": {},
   "outputs": [],
   "source": [
    "# your code here\n",
    "vehiculos = pd.read_csv('vehicles.csv')"
   ]
  },
  {
   "cell_type": "code",
   "execution_count": 35,
   "metadata": {
    "collapsed": true
   },
   "outputs": [
    {
     "data": {
      "text/html": [
       "<div>\n",
       "<style scoped>\n",
       "    .dataframe tbody tr th:only-of-type {\n",
       "        vertical-align: middle;\n",
       "    }\n",
       "\n",
       "    .dataframe tbody tr th {\n",
       "        vertical-align: top;\n",
       "    }\n",
       "\n",
       "    .dataframe thead th {\n",
       "        text-align: right;\n",
       "    }\n",
       "</style>\n",
       "<table border=\"1\" class=\"dataframe\">\n",
       "  <thead>\n",
       "    <tr style=\"text-align: right;\">\n",
       "      <th></th>\n",
       "      <th>Make</th>\n",
       "      <th>Model</th>\n",
       "      <th>Year</th>\n",
       "      <th>Engine Displacement</th>\n",
       "      <th>Cylinders</th>\n",
       "      <th>Transmission</th>\n",
       "      <th>Drivetrain</th>\n",
       "      <th>Vehicle Class</th>\n",
       "      <th>Fuel Type</th>\n",
       "      <th>Fuel Barrels/Year</th>\n",
       "      <th>City MPG</th>\n",
       "      <th>Highway MPG</th>\n",
       "      <th>Combined MPG</th>\n",
       "      <th>CO2 Emission Grams/Mile</th>\n",
       "      <th>Fuel Cost/Year</th>\n",
       "    </tr>\n",
       "  </thead>\n",
       "  <tbody>\n",
       "    <tr>\n",
       "      <th>0</th>\n",
       "      <td>AM General</td>\n",
       "      <td>DJ Po Vehicle 2WD</td>\n",
       "      <td>1984</td>\n",
       "      <td>2.5</td>\n",
       "      <td>4.0</td>\n",
       "      <td>Automatic 3-spd</td>\n",
       "      <td>2-Wheel Drive</td>\n",
       "      <td>Special Purpose Vehicle 2WD</td>\n",
       "      <td>Regular</td>\n",
       "      <td>19.388824</td>\n",
       "      <td>18</td>\n",
       "      <td>17</td>\n",
       "      <td>17</td>\n",
       "      <td>522.764706</td>\n",
       "      <td>1950</td>\n",
       "    </tr>\n",
       "    <tr>\n",
       "      <th>1</th>\n",
       "      <td>AM General</td>\n",
       "      <td>FJ8c Post Office</td>\n",
       "      <td>1984</td>\n",
       "      <td>4.2</td>\n",
       "      <td>6.0</td>\n",
       "      <td>Automatic 3-spd</td>\n",
       "      <td>2-Wheel Drive</td>\n",
       "      <td>Special Purpose Vehicle 2WD</td>\n",
       "      <td>Regular</td>\n",
       "      <td>25.354615</td>\n",
       "      <td>13</td>\n",
       "      <td>13</td>\n",
       "      <td>13</td>\n",
       "      <td>683.615385</td>\n",
       "      <td>2550</td>\n",
       "    </tr>\n",
       "    <tr>\n",
       "      <th>2</th>\n",
       "      <td>AM General</td>\n",
       "      <td>Post Office DJ5 2WD</td>\n",
       "      <td>1985</td>\n",
       "      <td>2.5</td>\n",
       "      <td>4.0</td>\n",
       "      <td>Automatic 3-spd</td>\n",
       "      <td>Rear-Wheel Drive</td>\n",
       "      <td>Special Purpose Vehicle 2WD</td>\n",
       "      <td>Regular</td>\n",
       "      <td>20.600625</td>\n",
       "      <td>16</td>\n",
       "      <td>17</td>\n",
       "      <td>16</td>\n",
       "      <td>555.437500</td>\n",
       "      <td>2100</td>\n",
       "    </tr>\n",
       "    <tr>\n",
       "      <th>3</th>\n",
       "      <td>AM General</td>\n",
       "      <td>Post Office DJ8 2WD</td>\n",
       "      <td>1985</td>\n",
       "      <td>4.2</td>\n",
       "      <td>6.0</td>\n",
       "      <td>Automatic 3-spd</td>\n",
       "      <td>Rear-Wheel Drive</td>\n",
       "      <td>Special Purpose Vehicle 2WD</td>\n",
       "      <td>Regular</td>\n",
       "      <td>25.354615</td>\n",
       "      <td>13</td>\n",
       "      <td>13</td>\n",
       "      <td>13</td>\n",
       "      <td>683.615385</td>\n",
       "      <td>2550</td>\n",
       "    </tr>\n",
       "    <tr>\n",
       "      <th>4</th>\n",
       "      <td>ASC Incorporated</td>\n",
       "      <td>GNX</td>\n",
       "      <td>1987</td>\n",
       "      <td>3.8</td>\n",
       "      <td>6.0</td>\n",
       "      <td>Automatic 4-spd</td>\n",
       "      <td>Rear-Wheel Drive</td>\n",
       "      <td>Midsize Cars</td>\n",
       "      <td>Premium</td>\n",
       "      <td>20.600625</td>\n",
       "      <td>14</td>\n",
       "      <td>21</td>\n",
       "      <td>16</td>\n",
       "      <td>555.437500</td>\n",
       "      <td>2550</td>\n",
       "    </tr>\n",
       "  </tbody>\n",
       "</table>\n",
       "</div>"
      ],
      "text/plain": [
       "               Make                Model  Year  Engine Displacement  \\\n",
       "0        AM General    DJ Po Vehicle 2WD  1984                  2.5   \n",
       "1        AM General     FJ8c Post Office  1984                  4.2   \n",
       "2        AM General  Post Office DJ5 2WD  1985                  2.5   \n",
       "3        AM General  Post Office DJ8 2WD  1985                  4.2   \n",
       "4  ASC Incorporated                  GNX  1987                  3.8   \n",
       "\n",
       "   Cylinders     Transmission        Drivetrain                Vehicle Class  \\\n",
       "0        4.0  Automatic 3-spd     2-Wheel Drive  Special Purpose Vehicle 2WD   \n",
       "1        6.0  Automatic 3-spd     2-Wheel Drive  Special Purpose Vehicle 2WD   \n",
       "2        4.0  Automatic 3-spd  Rear-Wheel Drive  Special Purpose Vehicle 2WD   \n",
       "3        6.0  Automatic 3-spd  Rear-Wheel Drive  Special Purpose Vehicle 2WD   \n",
       "4        6.0  Automatic 4-spd  Rear-Wheel Drive                 Midsize Cars   \n",
       "\n",
       "  Fuel Type  Fuel Barrels/Year  City MPG  Highway MPG  Combined MPG  \\\n",
       "0   Regular          19.388824        18           17            17   \n",
       "1   Regular          25.354615        13           13            13   \n",
       "2   Regular          20.600625        16           17            16   \n",
       "3   Regular          25.354615        13           13            13   \n",
       "4   Premium          20.600625        14           21            16   \n",
       "\n",
       "   CO2 Emission Grams/Mile  Fuel Cost/Year  \n",
       "0               522.764706            1950  \n",
       "1               683.615385            2550  \n",
       "2               555.437500            2100  \n",
       "3               683.615385            2550  \n",
       "4               555.437500            2550  "
      ]
     },
     "execution_count": 35,
     "metadata": {},
     "output_type": "execute_result"
    }
   ],
   "source": [
    "vehiculos.head()"
   ]
  },
  {
   "cell_type": "code",
   "execution_count": 37,
   "metadata": {
    "scrolled": true
   },
   "outputs": [
    {
     "data": {
      "image/png": "[encoded data removed]",
      "text/plain": [
       "<Figure size 432x288 with 1 Axes>"
      ]
     },
     "metadata": {
      "needs_background": "light"
     },
     "output_type": "display_data"
    }
   ],
   "source": [
    "vehiculos['Fuel Barrels/Year'].hist(bins=50);"
   ]
  },
  {
   "cell_type": "code",
   "execution_count": null,
   "metadata": {},
   "outputs": [],
   "source": []
  },
  {
   "cell_type": "markdown",
   "metadata": {},
   "source": [
    "2. CO2 Emission Grams/Mile "
   ]
  },
  {
   "cell_type": "code",
   "execution_count": 38,
   "metadata": {},
   "outputs": [
    {
     "data": {
      "image/png": "[encoded data removed]",
      "text/plain": [
       "<Figure size 432x288 with 1 Axes>"
      ]
     },
     "metadata": {
      "needs_background": "light"
     },
     "output_type": "display_data"
    }
   ],
   "source": [
    "# your code here\n",
    "vehiculos['CO2 Emission Grams/Mile'].hist(bins=50);"
   ]
  },
  {
   "cell_type": "markdown",
   "metadata": {},
   "source": [
    "3. Combined MPG"
   ]
  },
  {
   "cell_type": "code",
   "execution_count": 39,
   "metadata": {},
   "outputs": [
    {
     "data": {
      "image/png": "[encoded data removed]",
      "text/plain": [
       "<Figure size 432x288 with 1 Axes>"
      ]
     },
     "metadata": {
      "needs_background": "light"
     },
     "output_type": "display_data"
    }
   ],
   "source": [
    "# your code here\n",
    "vehiculos['Combined MPG'].hist(bins=50);"
   ]
  },
  {
   "cell_type": "markdown",
   "metadata": {},
   "source": [
    "Which one(s) of the variables are nearly normally distributed? How do you know?"
   ]
  },
  {
   "cell_type": "code",
   "execution_count": null,
   "metadata": {},
   "outputs": [],
   "source": [
    "# your answer here\n"
   ]
  },
  {
   "cell_type": "markdown",
   "metadata": {},
   "source": [
    "## Exponential Distribution"
   ]
  },
  {
   "cell_type": "markdown",
   "metadata": {},
   "source": [
    "1. Using `numpy.random.exponential`, create a function that returns a list of numbers exponentially distributed with the mean of 10. \n",
    "\n",
    "1. Use the function to generate two number sequences with the size of 1 and 100.\n",
    "\n",
    "1. Plot the distributions as histograms with the nubmer of bins as 100.\n",
    "\n",
    "Your output should look like below:\n",
    "\n",
    "![exponential distribution](ed.png)"
   ]
  },
  {
   "cell_type": "code",
   "execution_count": 74,
   "metadata": {},
   "outputs": [
    {
     "name": "stdout",
     "output_type": "stream",
     "text": [
      "[0.45448716 0.98479092 0.71186036 0.45403407 0.64175283 0.33316441\n",
      " 0.40056379 0.00161456 0.83203028 0.38668079]\n"
     ]
    }
   ],
   "source": [
    "# your code here\n",
    "\n",
    "def random_expo(count):\n",
    "    x=np.random.exponential(1/10, size=count)\n",
    "    return x\n",
    "print(x)\n"
   ]
  },
  {
   "cell_type": "code",
   "execution_count": 75,
   "metadata": {},
   "outputs": [],
   "source": [
    "expo_1=random_expo(100)"
   ]
  },
  {
   "cell_type": "code",
   "execution_count": 82,
   "metadata": {},
   "outputs": [
    {
     "data": {
      "image/png": "[encoded data removed]",
      "text/plain": [
       "<Figure size 432x288 with 1 Axes>"
      ]
     },
     "metadata": {
      "needs_background": "light"
     },
     "output_type": "display_data"
    }
   ],
   "source": [
    "plt.hist(expo_1, bins=100);"
   ]
  },
  {
   "cell_type": "code",
   "execution_count": 65,
   "metadata": {},
   "outputs": [],
   "source": [
    "expo_2=random_expo(1000)"
   ]
  },
  {
   "cell_type": "code",
   "execution_count": 66,
   "metadata": {},
   "outputs": [
    {
     "data": {
      "image/png": "[encoded data removed]",
      "text/plain": [
       "<Figure size 432x288 with 1 Axes>"
      ]
     },
     "metadata": {
      "needs_background": "light"
     },
     "output_type": "display_data"
    }
   ],
   "source": [
    "plt.hist(expo_2, bins=100);"
   ]
  },
  {
   "cell_type": "markdown",
   "metadata": {},
   "source": [
    "How are the two distributions different?"
   ]
  },
  {
   "cell_type": "code",
   "execution_count": null,
   "metadata": {},
   "outputs": [],
   "source": [
    "# your answer here"
   ]
  },
  {
   "cell_type": "markdown",
   "metadata": {},
   "source": [
    "## Exponential Distribution of Real Data\n",
    "\n",
    "Suppose that the amount of time one spends in a bank is exponentially distributed with mean as 10 minutes (i.e. λ = 1/10). What is the probability that a customer will spend less than fifteen minutes in the bank? \n",
    "\n",
    "Write a code in python to solve this problem"
   ]
  },
  {
   "cell_type": "code",
   "execution_count": null,
   "metadata": {},
   "outputs": [],
   "source": [
    "# your answer here\n",
    "# Hint: This is same as saying P(x<15)"
   ]
  },
  {
   "cell_type": "markdown",
   "metadata": {},
   "source": [
    "What is the probability that the customer will spend more than 15 minutes"
   ]
  },
  {
   "cell_type": "code",
   "execution_count": null,
   "metadata": {},
   "outputs": [],
   "source": [
    "# your answer here"
   ]
  },
  {
   "cell_type": "code",
   "execution_count": null,
   "metadata": {},
   "outputs": [],
   "source": []
  }
 ],
 "metadata": {
  "kernelspec": {
   "display_name": "Python 3",
   "language": "python",
   "name": "python3"
  },
  "language_info": {
   "codemirror_mode": {
    "name": "ipython",
    "version": 3
   },
   "file_extension": ".py",
   "mimetype": "text/x-python",
   "name": "python",
   "nbconvert_exporter": "python",
   "pygments_lexer": "ipython3",
   "version": "3.8.8"
  }
 },
 "nbformat": 4,
 "nbformat_minor": 2
}
