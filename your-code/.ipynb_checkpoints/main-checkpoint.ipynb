{
 "cells": [
  {
   "cell_type": "markdown",
   "metadata": {},
   "source": [
    "# Before your start:\n",
    "\n",
    "    Read the README.md file\n",
    "    Comment as much as you can and use the resources (README.md file)\n",
    "    Happy learning!"
   ]
  },
  {
   "cell_type": "markdown",
   "metadata": {},
   "source": [
    "In this exercise, we  will generate random numbers from the continuous disributions we learned in the lesson. There are two ways to generate random numbers:\n",
    "\n",
    "1. Using the numpy library \n",
    "1. using the Scipy library \n",
    "\n",
    "Use either or both of the lbraries in this exercise."
   ]
  },
  {
   "cell_type": "markdown",
   "metadata": {},
   "source": [
    "## Uniform Distribution\n",
    "\n",
    "To generate uniform random numbers between any two given values using scipy, we can either use the following code or the code that we have\n",
    "discussed in class:"
   ]
  },
  {
   "cell_type": "code",
   "execution_count": 1,
   "metadata": {},
   "outputs": [
    {
     "name": "stdout",
     "output_type": "stream",
     "text": [
      "[2.03910632 2.31916767 2.71495267 2.28599097 2.78113214 2.11681521\n",
      " 2.1756569  2.88031116 2.22779498 2.84822273]\n"
     ]
    }
   ],
   "source": [
    "from scipy.stats import uniform\n",
    "x = uniform.rvs(size=10)\n",
    "a = 2\n",
    "b = 3\n",
    "randoms  = a + (b-a)*x\n",
    "print(randoms)"
   ]
  },
  {
   "cell_type": "markdown",
   "metadata": {},
   "source": [
    "**Your task:**\n",
    "\n",
    "1. Based on the code above, write a function that generates uniformly distributed random numbers. There are several requirements for your function:\n",
    "    * It should accept 3 parameters: \n",
    "        * `bottom` - the lower boundary of the generated numbers\n",
    "        * `ceiling` - the upper boundary of the generated numbers\n",
    "        * `count` - how many numbers to generate\n",
    "    * It should return an array of uniformly distributed random numbers\n",
    "\n",
    "1. Call your function with 2 sets of params below:\n",
    "    * bottom=10, ceiling=15, count=100\n",
    "    * bottom=10, ceiling=60, count=1,000\n",
    "\n",
    "1. Plot the uniform distributions generated above using histograms, where x axis is the value and y axis is the count. Let the histogram's number of bins be 10.\n",
    "\n",
    "Your output should look like below:\n",
    "\n",
    "![uniform distribution](ud.png)"
   ]
  },
  {
   "cell_type": "code",
   "execution_count": 2,
   "metadata": {},
   "outputs": [],
   "source": [
    "# your code here\n",
    "def random_numbers(bottom, ceiling, count):\n",
    "    x = uniform.rvs(size=count)\n",
    "    randoms = bottom + (ceiling-bottom)*x\n",
    "    return randoms"
   ]
  },
  {
   "cell_type": "code",
   "execution_count": 5,
   "metadata": {},
   "outputs": [],
   "source": [
    "primer_set = random_numbers(10, 15, 100)\n",
    "segundo_set = random_numbers(10, 60, 1000)"
   ]
  },
  {
   "cell_type": "code",
   "execution_count": 6,
   "metadata": {
    "collapsed": true
   },
   "outputs": [
    {
     "data": {
      "text/plain": [
       "array([14.39285956, 14.28280695, 13.39220694, 14.39083097, 12.82645235,\n",
       "       12.83513158, 11.42756985, 14.98921786, 14.85902679, 14.81452611,\n",
       "       10.3719731 , 13.36587453, 12.71943575, 12.14736529, 13.94040125,\n",
       "       12.76750821, 14.91676867, 14.26688904, 10.19499895, 11.09454467,\n",
       "       10.2441273 , 13.02851565, 12.02974011, 12.02187975, 13.20584862,\n",
       "       13.18544559, 11.73142135, 10.31551023, 14.39165278, 13.54574151,\n",
       "       10.41639266, 14.31493716, 10.13376862, 13.01213187, 10.19313555,\n",
       "       13.54753661, 12.45399524, 10.28531923, 14.64273418, 14.14781103,\n",
       "       11.64514897, 14.91542555, 11.56459125, 13.96750269, 11.41464541,\n",
       "       14.7524726 , 13.9822572 , 12.59256847, 14.78477207, 12.17960397,\n",
       "       14.22705117, 10.62744937, 11.67269321, 11.74234381, 14.42949879,\n",
       "       14.41760775, 14.76929115, 14.68037284, 11.47884703, 14.97262548,\n",
       "       10.37712884, 12.04442747, 12.25214056, 14.1088915 , 11.65302437,\n",
       "       10.28800112, 11.19076601, 11.2803708 , 11.87264508, 13.00934383,\n",
       "       10.8477447 , 14.15885547, 11.30927371, 10.33622257, 13.03131287,\n",
       "       12.65573513, 12.95699756, 12.35044699, 10.6581466 , 10.78727618,\n",
       "       13.60502097, 13.27650949, 10.33769638, 10.63955432, 13.01515973,\n",
       "       10.24856931, 10.68001871, 12.39702268, 11.176879  , 12.92938093,\n",
       "       10.33822443, 10.37339518, 12.95817835, 13.29323422, 13.70578698,\n",
       "       11.8627068 , 13.36173514, 11.39068388, 11.03191611, 13.87996942])"
      ]
     },
     "execution_count": 6,
     "metadata": {},
     "output_type": "execute_result"
    }
   ],
   "source": [
    "primer_set"
   ]
  },
  {
   "cell_type": "code",
   "execution_count": 7,
   "metadata": {
    "collapsed": true
   },
   "outputs": [
    {
     "data": {
      "text/plain": [
       "array([23.43958686, 33.35062121, 18.59911215, 33.07221715, 46.53454019,\n",
       "       11.76408076, 58.04086825, 42.37383636, 12.64531933, 21.25649922,\n",
       "       46.40173184, 50.11487786, 47.60267151, 21.30785682, 50.93817512,\n",
       "       56.09587427, 25.78902   , 31.25606437, 11.11117482, 58.12133276,\n",
       "       41.40370419, 31.73920016, 24.2268386 , 52.72258016, 31.35497118,\n",
       "       22.03221798, 29.36272718, 47.30900665, 36.17284646, 41.4828206 ,\n",
       "       42.15382824, 44.15889917, 49.0502388 , 45.88263541, 17.20519501,\n",
       "       55.12013572, 41.27870128, 44.6781005 , 22.5769926 , 32.22514226,\n",
       "       52.05831653, 55.85873952, 53.71334993, 22.88244437, 29.35405415,\n",
       "       40.41616012, 35.83711108, 14.60405699, 50.58891235, 48.30797362,\n",
       "       29.16119518, 18.6442772 , 43.75831428, 28.35130879, 12.33822746,\n",
       "       22.68380969, 26.69615022, 53.85902461, 29.280451  , 51.20939774,\n",
       "       38.4727366 , 49.39620442, 38.41171148, 47.28016103, 47.61660794,\n",
       "       15.42760361, 59.3744501 , 29.04176995, 46.16319988, 49.99758907,\n",
       "       18.36725893, 48.67133666, 22.38193698, 36.29887534, 35.04083837,\n",
       "       53.15230734, 45.74514616, 34.91430056, 17.22697959, 33.32916465,\n",
       "       25.67471914, 47.16807756, 57.69332894, 27.11277746, 43.80487677,\n",
       "       28.32843513, 51.16847754, 12.51519527, 56.52167152, 13.31131173,\n",
       "       51.55355872, 12.29229556, 42.98216415, 53.75819792, 56.23687496,\n",
       "       46.02169792, 31.20729245, 38.26128406, 15.56425137, 42.26470754,\n",
       "       30.39149289, 17.75500552, 17.1213935 , 41.44197538, 50.10217392,\n",
       "       31.77212472, 38.54060305, 33.2560717 , 13.42015088, 38.12854482,\n",
       "       56.73074836, 27.152899  , 30.60143674, 57.84545358, 45.97382757,\n",
       "       57.80212116, 12.18788213, 42.56338712, 13.91371783, 15.81323114,\n",
       "       50.95120447, 27.97901668, 20.37715554, 55.59166942, 19.37094288,\n",
       "       23.35920887, 19.29947862, 22.86715449, 30.78573847, 57.93142041,\n",
       "       51.05826458, 52.45699703, 54.38273199, 47.94901275, 52.9671371 ,\n",
       "       11.20013575, 14.16415555, 19.55210395, 54.82256233, 49.50100712,\n",
       "       32.70195883, 44.18843328, 25.50765744, 46.75858265, 54.38587531,\n",
       "       45.89100173, 47.3251119 , 15.03636007, 18.75585509, 42.84287705,\n",
       "       33.20009365, 42.46851874, 49.30547432, 35.74084686, 31.49737503,\n",
       "       10.67850998, 35.41170049, 58.48989287, 56.34635007, 17.0430241 ,\n",
       "       34.74981079, 15.94786667, 22.04593871, 42.20384101, 38.08117688,\n",
       "       29.96689897, 26.70816093, 15.76122388, 43.36850416, 49.41913853,\n",
       "       48.77319707, 19.59426526, 21.86358468, 56.38652202, 39.5330332 ,\n",
       "       53.01294733, 27.12152857, 19.57611204, 33.29466062, 32.25479177,\n",
       "       20.82665621, 43.80055713, 31.95319677, 45.65148878, 30.25184714,\n",
       "       30.34527898, 13.27496202, 45.96428171, 30.52447679, 54.06887437,\n",
       "       52.23860888, 41.65327384, 49.97372582, 20.89267764, 40.18150583,\n",
       "       18.50296518, 22.37194967, 13.72907409, 19.8182399 , 13.30463945,\n",
       "       20.30431727, 46.74058515, 18.79355009, 54.28546443, 17.46939533,\n",
       "       49.45724417, 25.18780279, 14.7169995 , 50.09967844, 13.63986923,\n",
       "       57.0024878 , 42.93029223, 58.7336989 , 47.20493846, 41.30926068,\n",
       "       29.47717128, 58.99018286, 24.36333351, 31.45008831, 18.13790748,\n",
       "       58.01856943, 56.99137506, 36.70296986, 30.97080035, 52.82757899,\n",
       "       35.38544924, 24.22300518, 11.42186492, 50.00455711, 25.10612892,\n",
       "       26.67582157, 46.00431247, 54.87345454, 37.24124194, 17.93511176,\n",
       "       53.70863032, 30.43606944, 38.79101904, 32.36834606, 19.52244374,\n",
       "       52.68670052, 15.34331689, 45.30076175, 54.28508282, 45.17768248,\n",
       "       38.67297128, 35.65877937, 10.74651846, 12.25539395, 21.53618989,\n",
       "       41.70524654, 24.11282319, 13.52199511, 23.9920739 , 59.4942737 ,\n",
       "       48.59972108, 38.37430294, 28.3675018 , 15.25907481, 49.62097857,\n",
       "       17.60431971, 47.74543114, 50.82444121, 47.7085236 , 35.0436754 ,\n",
       "       37.60261133, 33.57066849, 46.71729594, 42.41062673, 21.2053513 ,\n",
       "       58.61321357, 47.30916469, 37.29552058, 32.04600324, 25.32261846,\n",
       "       16.41684352, 15.37606791, 29.59480203, 29.16920188, 12.75057959,\n",
       "       48.66862347, 17.79964427, 13.1422567 , 50.72410868, 21.97480684,\n",
       "       43.90853466, 53.74368737, 52.60882212, 17.78993263, 46.5829091 ,\n",
       "       26.76558316, 38.03683083, 37.78083123, 21.63895407, 16.15400312,\n",
       "       55.63039494, 21.90978608, 50.37939756, 46.15246751, 59.53634584,\n",
       "       52.60826262, 54.98965794, 19.22962007, 58.52626538, 55.0487462 ,\n",
       "       20.92035821, 18.89751809, 52.07446619, 11.26442445, 43.01415949,\n",
       "       41.33875576, 24.07270786, 20.54818628, 31.93423375, 19.03438122,\n",
       "       29.87321198, 49.50054209, 42.60289899, 17.8694186 , 12.88390295,\n",
       "       37.18995008, 18.92825882, 29.65818704, 31.6650094 , 17.98928036,\n",
       "       35.17619951, 58.8372966 , 39.35897569, 23.25877741, 18.26631058,\n",
       "       58.84032192, 24.53732413, 41.85707476, 40.09941159, 55.21329243,\n",
       "       20.92908692, 26.22769861, 42.24925442, 13.30611916, 34.84069015,\n",
       "       17.56520803, 38.41126548, 15.68805363, 17.12180332, 30.18004065,\n",
       "       38.36674943, 17.51510084, 47.8811223 , 30.43711631, 23.70452215,\n",
       "       43.31323623, 38.51903711, 51.94875038, 52.42362893, 31.99677934,\n",
       "       16.48525611, 42.48313014, 43.31897548, 58.97830428, 57.21701847,\n",
       "       56.02857993, 46.23772023, 24.92491473, 23.35388509, 16.88344741,\n",
       "       24.10342647, 50.85086402, 25.5654368 , 53.83529277, 55.35914971,\n",
       "       27.31769003, 18.09482306, 57.10648502, 43.23442931, 53.43725259,\n",
       "       25.16988183, 13.22457833, 42.55739257, 37.03983757, 27.08474597,\n",
       "       15.98017831, 59.3230831 , 47.37967464, 50.13676884, 15.12320142,\n",
       "       52.24220129, 56.24864372, 55.4429355 , 46.92127081, 10.88557978,\n",
       "       30.79832447, 12.49287674, 18.87004633, 35.24102633, 31.95407082,\n",
       "       32.80501373, 31.87280127, 11.53491016, 29.49362614, 46.39130391,\n",
       "       21.43770132, 27.55029508, 19.14703962, 36.64986915, 46.82726114,\n",
       "       42.37213426, 11.27676647, 59.02030092, 40.40697493, 57.8244439 ,\n",
       "       50.51787312, 51.77236182, 10.38380263, 18.95998484, 40.0379571 ,\n",
       "       29.58632297, 14.75314885, 15.97712441, 46.16417093, 37.19567557,\n",
       "       40.69769108, 46.23878214, 14.67081503, 21.73589952, 46.85271073,\n",
       "       10.30557101, 49.0025472 , 56.5687446 , 56.56331991, 38.11146321,\n",
       "       31.12170625, 27.90923849, 36.43952602, 44.61579614, 21.71082598,\n",
       "       46.39318327, 50.74438367, 57.1357454 , 55.9395167 , 12.79316033,\n",
       "       14.47761047, 19.11087935, 11.0827826 , 46.40053644, 51.85223527,\n",
       "       48.44819071, 48.11141169, 21.5174952 , 41.47485115, 36.350505  ,\n",
       "       56.06913762, 15.58638591, 29.52907273, 16.85142946, 42.26459179,\n",
       "       24.5266492 , 21.65150818, 19.68202751, 57.08365159, 50.85813604,\n",
       "       26.42412531, 54.40875525, 12.9751259 , 57.69951199, 38.23071984,\n",
       "       36.747773  , 14.59723686, 33.44866802, 43.21498289, 38.80440245,\n",
       "       34.78138844, 35.29719798, 59.77746155, 29.37898126, 20.49221702,\n",
       "       34.7499247 , 15.88382425, 27.2718586 , 42.67381487, 31.98504511,\n",
       "       56.92254658, 54.23582398, 36.12467659, 12.04719267, 13.89142962,\n",
       "       36.30673229, 59.28158263, 11.15486578, 19.75579913, 39.84067982,\n",
       "       44.10614607, 53.70949979, 26.71520481, 49.76590806, 55.71340669,\n",
       "       16.47257437, 25.32583135, 18.73499657, 24.75218599, 28.16933321,\n",
       "       20.10338153, 35.13024975, 22.68936264, 35.8545007 , 44.87524924,\n",
       "       43.92793587, 54.94718499, 18.23716527, 37.30724318, 59.7827177 ,\n",
       "       59.39320624, 30.16305358, 25.43524113, 25.73271301, 46.45883702,\n",
       "       21.99217187, 10.25854132, 26.59998022, 57.48153879, 46.0149725 ,\n",
       "       24.14519655, 41.57397757, 59.76323131, 44.11180842, 14.84720299,\n",
       "       26.74571305, 54.62972535, 24.005543  , 59.86457219, 39.69728047,\n",
       "       39.17327748, 28.53516658, 34.7603919 , 30.28797042, 58.03772282,\n",
       "       18.55453705, 33.15087484, 59.22141787, 10.26734333, 24.11911875,\n",
       "       58.39514966, 41.26305712, 14.21935958, 14.40380162, 56.16377807,\n",
       "       38.86272299, 49.85619453, 44.51296127, 49.38912275, 47.43998124,\n",
       "       33.65767251, 29.63859916, 23.22036666, 57.62489088, 13.3159157 ,\n",
       "       33.17018462, 21.02480482, 25.29484232, 28.45367072, 52.73870261,\n",
       "       11.27941848, 42.9507153 , 36.31061595, 36.88110481, 51.04419521,\n",
       "       51.21995199, 57.65216154, 27.38957675, 22.96437048, 41.651965  ,\n",
       "       52.50840858, 39.66986429, 17.25406667, 43.83824343, 59.20736889,\n",
       "       26.2346735 , 56.04447055, 10.1636214 , 42.10385464, 53.86583387,\n",
       "       14.21481543, 28.00342515, 25.85569229, 46.86849314, 56.00233929,\n",
       "       16.5700315 , 59.62794437, 15.21132069, 38.06025733, 17.18843825,\n",
       "       30.03624856, 39.12284812, 54.59160112, 22.57210018, 37.39210192,\n",
       "       56.06848148, 36.23216062, 30.97889853, 26.58173054, 53.98156281,\n",
       "       40.23730901, 58.46123541, 42.03887619, 24.36227604, 49.68736655,\n",
       "       25.13331162, 42.01032856, 57.46530345, 27.44245266, 11.01236417,\n",
       "       46.95469723, 26.57560499, 18.14167804, 31.71434267, 11.35939069,\n",
       "       29.06364122, 39.91470497, 33.8855995 , 39.09613241, 38.96204958,\n",
       "       45.61364548, 47.6151204 , 24.61282862, 20.77646319, 36.85085887,\n",
       "       33.28929531, 51.77194693, 15.58406761, 12.08863696, 48.81571271,\n",
       "       28.76903874, 27.96971777, 21.6119108 , 43.65136437, 52.95863322,\n",
       "       21.7201373 , 30.4767418 , 14.51850758, 40.63620817, 29.99241752,\n",
       "       31.83983296, 21.60504749, 21.48042028, 33.95806204, 42.31823323,\n",
       "       59.30178033, 43.65606272, 30.52682392, 35.22050499, 20.03318075,\n",
       "       19.11683244, 15.61993061, 57.56944282, 47.75350108, 11.34583417,\n",
       "       25.16395261, 14.50412789, 27.52742753, 29.05889495, 24.20658226,\n",
       "       24.58813934, 18.05583679, 50.79392214, 18.89222188, 24.13369229,\n",
       "       14.49967331, 14.01708637, 48.98500903, 37.79210277, 53.71892572,\n",
       "       55.77015239, 17.17813184, 36.78458212, 52.92150643, 36.7881821 ,\n",
       "       40.52548946, 38.94129513, 59.38108351, 22.07525969, 21.82713704,\n",
       "       31.10816792, 15.43298816, 20.05400938, 15.57096496, 11.21935509,\n",
       "       19.68035871, 56.18776309, 24.19267518, 50.0727488 , 14.74193196,\n",
       "       11.1245789 , 50.93680621, 34.68248627, 43.43032699, 24.99721893,\n",
       "       10.61416586, 58.85582694, 49.00787818, 25.87833703, 49.36060519,\n",
       "       17.27545419, 34.19025698, 46.96999256, 13.3821637 , 48.75255907,\n",
       "       22.86557707, 42.07557451, 30.05471771, 35.16389457, 57.34187835,\n",
       "       35.93252165, 49.45413533, 54.81989316, 20.67902651, 22.63340725,\n",
       "       29.14851166, 46.01068904, 49.70218574, 17.62852949, 11.96916118,\n",
       "       27.55026971, 15.96794203, 16.34080101, 44.56231915, 52.80392211,\n",
       "       38.64936715, 22.49717165, 59.47238709, 46.42879856, 38.7007749 ,\n",
       "       32.18618402, 58.27808029, 18.69034784, 26.96604064, 49.55448953,\n",
       "       41.08694908, 27.45256257, 47.51108251, 28.13932065, 48.17906654,\n",
       "       18.45328576, 52.31927275, 38.99200346, 13.17122515, 34.7639792 ,\n",
       "       10.44805019, 35.40200002, 35.59028708, 28.45386157, 49.63965293,\n",
       "       18.38045332, 40.79788705, 58.59688233, 59.76930795, 27.2676318 ,\n",
       "       31.97267841, 28.433073  , 30.36244534, 37.96067974, 49.92394423,\n",
       "       12.39076335, 35.76801118, 31.80514193, 27.46341998, 59.316331  ,\n",
       "       48.12871696, 57.26889258, 51.42277818, 31.9030257 , 54.09361651,\n",
       "       24.37884089, 41.75184728, 42.39505353, 46.08835595, 13.71932489,\n",
       "       14.29094372, 11.20617144, 22.99463068, 55.166668  , 53.92008484,\n",
       "       19.29995292, 10.88023383, 42.47065908, 18.94561237, 29.18463249,\n",
       "       34.76037598, 39.98285947, 23.33529336, 39.45834245, 53.26853853,\n",
       "       45.83244277, 36.14444099, 28.82410683, 40.12893341, 58.52323549,\n",
       "       22.31079635, 33.03494221, 49.53602648, 27.20956384, 25.33195899,\n",
       "       50.4707884 , 44.9109201 , 19.93728257, 30.78037229, 57.56776101,\n",
       "       51.6068461 , 25.20723144, 19.89133722, 58.84221686, 49.74330122,\n",
       "       38.81076474, 22.46369422, 59.48977777, 17.12893748, 26.02565512,\n",
       "       31.48708377, 33.36410448, 10.23861773, 21.65775982, 52.00480668,\n",
       "       23.81676494, 16.80654228, 22.20517997, 42.86478505, 37.82457755,\n",
       "       41.70301161, 26.20489781, 29.25114404, 15.58547358, 21.9626427 ,\n",
       "       22.81457353, 38.227048  , 32.14503808, 24.2829314 , 35.47794907,\n",
       "       57.97863066, 35.18944202, 10.39030326, 55.39916854, 34.58166462,\n",
       "       28.63001266, 53.33475124, 14.9067784 , 22.58094779, 27.02529532,\n",
       "       48.13070264, 49.46214122, 16.78128283, 38.33689748, 57.0735055 ,\n",
       "       36.08253043, 35.4223102 , 51.8351721 , 24.26276674, 53.96547229,\n",
       "       27.99979443, 13.60930754, 26.92108766, 45.85327863, 55.75838989,\n",
       "       19.5135164 , 59.83852966, 38.44823211, 11.12825651, 35.35015278,\n",
       "       56.2666696 , 54.66368958, 14.44029128, 33.71305751, 34.07955448,\n",
       "       50.02238632, 58.08513258, 23.28777282, 34.3283861 , 52.66692958,\n",
       "       10.73558905, 43.91907628, 30.61944615, 35.46100643, 20.21167879,\n",
       "       25.08416195, 58.79564224, 11.83121827, 29.14055258, 47.37361893,\n",
       "       53.77244701, 30.53193684, 42.62654925, 29.73817725, 37.55817693,\n",
       "       13.01735336, 13.66155588, 39.21828457, 26.55587757, 33.84884726,\n",
       "       10.24256837, 37.00432699, 46.1270631 , 49.99043378, 31.10081153,\n",
       "       25.67470192, 56.74423229, 26.56663654, 24.42045674, 26.78573641,\n",
       "       57.17810493, 24.0098005 , 12.27070017, 53.22007424, 18.48110681,\n",
       "       42.58158125, 14.30442103, 52.86816509, 21.2736821 , 18.0328743 ,\n",
       "       34.19678226, 52.94292744, 49.04009671, 11.60974397, 51.47523519,\n",
       "       23.2057129 , 40.92612389, 44.92744219, 28.04701056, 33.45919743,\n",
       "       54.94209087, 13.2091574 , 58.57151253, 53.09938759, 32.14899478,\n",
       "       15.08421972, 19.55728731, 39.45469539, 49.42798282, 10.17842016,\n",
       "       53.33396203, 26.6411466 , 53.6828186 , 19.22003334, 31.02443705,\n",
       "       41.77665389, 54.05527106, 53.92515038, 47.76865477, 38.15606556,\n",
       "       37.08104252, 37.68846577, 30.30419429, 21.70326148, 21.85533866,\n",
       "       35.30731194, 22.47628632, 51.18474617, 51.78645677, 55.10516164,\n",
       "       14.51731198, 23.18278989, 48.41012599, 23.74039575, 23.95065782,\n",
       "       34.43510504, 50.50771692, 58.82514887, 52.24754938, 54.36877007,\n",
       "       57.51716244, 57.46581603, 29.90216804, 43.94032386, 29.78500141,\n",
       "       29.10873497, 20.3776918 , 50.00763431, 40.66417649, 52.20306225,\n",
       "       28.35049514, 10.39617116, 44.4770023 , 21.34915275, 29.60148374,\n",
       "       45.83418618, 42.08660502, 44.38869177, 54.58035491, 49.10570542,\n",
       "       22.56118105, 39.79073042, 51.40596493, 44.59837555, 45.29613372,\n",
       "       20.93336707, 48.59638738, 25.85303925, 27.05170319, 33.29353941,\n",
       "       35.55551148, 22.41369086, 22.42291264, 14.57797328, 18.78983373])"
      ]
     },
     "execution_count": 7,
     "metadata": {},
     "output_type": "execute_result"
    }
   ],
   "source": [
    "segundo_set"
   ]
  },
  {
   "cell_type": "code",
   "execution_count": 14,
   "metadata": {},
   "outputs": [
    {
     "data": {
      "image/png": "[encoded data removed]",
      "text/plain": [
       "<Figure size 432x288 with 2 Axes>"
      ]
     },
     "metadata": {
      "needs_background": "light"
     },
     "output_type": "display_data"
    }
   ],
   "source": [
    "import matplotlib.pyplot as plt\n",
    "\n",
    "fig, ax = plt.subplots(1, 2, sharey=True)\n",
    "ax[0].hist(primer_set, bins=10)\n",
    "ax[1].hist(segundo_set, bins=10);"
   ]
  },
  {
   "cell_type": "markdown",
   "metadata": {},
   "source": [
    "How are the two distributions different?"
   ]
  },
  {
   "cell_type": "code",
   "execution_count": null,
   "metadata": {},
   "outputs": [],
   "source": [
    "#en que la primera es menos probable que los numeros se repitan porque tiene un limite de 100, \n",
    "#en cambio la segunda son 1000"
   ]
  },
  {
   "cell_type": "markdown",
   "metadata": {},
   "source": [
    "## Normal Distribution\n",
    "\n",
    "1. In the same way in the Uniform Distribution challenge, write a function that generates normally distributed random numbers.\n",
    "1. Generate 1,000 normally distributed numbers with the average of 10 and standard deviation of 1\n",
    "1. Generate 1,000 normally distributed numbers with the average of 10 and standard deviation of 50\n",
    "2. Plot the distributions of the data generated.\n",
    "\n",
    "Expected output:\n",
    "\n",
    "![normal distribution](nd.png)"
   ]
  },
  {
   "cell_type": "code",
   "execution_count": 18,
   "metadata": {},
   "outputs": [],
   "source": [
    "# your code here\n",
    "from scipy.stats import norm\n",
    "\n",
    "def normal_dist (mean,std,count):\n",
    "    x = norm.rvs(size=count)\n",
    "    randoms_norm  = mean + (std) * x\n",
    "    return randoms_norm"
   ]
  },
  {
   "cell_type": "code",
   "execution_count": 21,
   "metadata": {},
   "outputs": [],
   "source": [
    "primer_normal = normal_dist(10, 1, 1000)\n",
    "segundo_normal = normal_dist(10, 50, 1000)"
   ]
  },
  {
   "cell_type": "code",
   "execution_count": 25,
   "metadata": {},
   "outputs": [
    {
     "data": {
      "image/png": "[encoded data removed]",
      "text/plain": [
       "<Figure size 432x288 with 2 Axes>"
      ]
     },
     "metadata": {
      "needs_background": "light"
     },
     "output_type": "display_data"
    }
   ],
   "source": [
    "fig, ax = plt.subplots(1, 2, sharey=True)\n",
    "ax[0].hist(primer_normal, bins=50)\n",
    "ax[1].hist(segundo_normal, bins=50);"
   ]
  },
  {
   "cell_type": "markdown",
   "metadata": {},
   "source": [
    "How are the two distributions different?"
   ]
  },
  {
   "cell_type": "code",
   "execution_count": 27,
   "metadata": {},
   "outputs": [],
   "source": [
    "# your answer below\n",
    "#la diferencia ahora es en la media"
   ]
  },
  {
   "cell_type": "markdown",
   "metadata": {},
   "source": [
    "## Normal Distribution of Real Data\n",
    "\n",
    "In this challenge we are going to take a look the real data. We will use vehicles.csv file for this exercise"
   ]
  },
  {
   "cell_type": "markdown",
   "metadata": {},
   "source": [
    "First import vehicles.csv.\n",
    "Then plot the histograms for the following variables:\n",
    "\n",
    "1. Fuel Barrels/Year"
   ]
  },
  {
   "cell_type": "code",
   "execution_count": 29,
   "metadata": {},
   "outputs": [],
   "source": [
    "import pandas as pd\n",
    "vehicles = pd.read_csv('vehicles.csv')"
   ]
  },
  {
   "cell_type": "code",
   "execution_count": 30,
   "metadata": {},
   "outputs": [
    {
     "data": {
      "text/html": [
       "<div>\n",
       "<style scoped>\n",
       "    .dataframe tbody tr th:only-of-type {\n",
       "        vertical-align: middle;\n",
       "    }\n",
       "\n",
       "    .dataframe tbody tr th {\n",
       "        vertical-align: top;\n",
       "    }\n",
       "\n",
       "    .dataframe thead th {\n",
       "        text-align: right;\n",
       "    }\n",
       "</style>\n",
       "<table border=\"1\" class=\"dataframe\">\n",
       "  <thead>\n",
       "    <tr style=\"text-align: right;\">\n",
       "      <th></th>\n",
       "      <th>Make</th>\n",
       "      <th>Model</th>\n",
       "      <th>Year</th>\n",
       "      <th>Engine Displacement</th>\n",
       "      <th>Cylinders</th>\n",
       "      <th>Transmission</th>\n",
       "      <th>Drivetrain</th>\n",
       "      <th>Vehicle Class</th>\n",
       "      <th>Fuel Type</th>\n",
       "      <th>Fuel Barrels/Year</th>\n",
       "      <th>City MPG</th>\n",
       "      <th>Highway MPG</th>\n",
       "      <th>Combined MPG</th>\n",
       "      <th>CO2 Emission Grams/Mile</th>\n",
       "      <th>Fuel Cost/Year</th>\n",
       "    </tr>\n",
       "  </thead>\n",
       "  <tbody>\n",
       "    <tr>\n",
       "      <th>0</th>\n",
       "      <td>AM General</td>\n",
       "      <td>DJ Po Vehicle 2WD</td>\n",
       "      <td>1984</td>\n",
       "      <td>2.5</td>\n",
       "      <td>4.0</td>\n",
       "      <td>Automatic 3-spd</td>\n",
       "      <td>2-Wheel Drive</td>\n",
       "      <td>Special Purpose Vehicle 2WD</td>\n",
       "      <td>Regular</td>\n",
       "      <td>19.388824</td>\n",
       "      <td>18</td>\n",
       "      <td>17</td>\n",
       "      <td>17</td>\n",
       "      <td>522.764706</td>\n",
       "      <td>1950</td>\n",
       "    </tr>\n",
       "    <tr>\n",
       "      <th>1</th>\n",
       "      <td>AM General</td>\n",
       "      <td>FJ8c Post Office</td>\n",
       "      <td>1984</td>\n",
       "      <td>4.2</td>\n",
       "      <td>6.0</td>\n",
       "      <td>Automatic 3-spd</td>\n",
       "      <td>2-Wheel Drive</td>\n",
       "      <td>Special Purpose Vehicle 2WD</td>\n",
       "      <td>Regular</td>\n",
       "      <td>25.354615</td>\n",
       "      <td>13</td>\n",
       "      <td>13</td>\n",
       "      <td>13</td>\n",
       "      <td>683.615385</td>\n",
       "      <td>2550</td>\n",
       "    </tr>\n",
       "    <tr>\n",
       "      <th>2</th>\n",
       "      <td>AM General</td>\n",
       "      <td>Post Office DJ5 2WD</td>\n",
       "      <td>1985</td>\n",
       "      <td>2.5</td>\n",
       "      <td>4.0</td>\n",
       "      <td>Automatic 3-spd</td>\n",
       "      <td>Rear-Wheel Drive</td>\n",
       "      <td>Special Purpose Vehicle 2WD</td>\n",
       "      <td>Regular</td>\n",
       "      <td>20.600625</td>\n",
       "      <td>16</td>\n",
       "      <td>17</td>\n",
       "      <td>16</td>\n",
       "      <td>555.437500</td>\n",
       "      <td>2100</td>\n",
       "    </tr>\n",
       "    <tr>\n",
       "      <th>3</th>\n",
       "      <td>AM General</td>\n",
       "      <td>Post Office DJ8 2WD</td>\n",
       "      <td>1985</td>\n",
       "      <td>4.2</td>\n",
       "      <td>6.0</td>\n",
       "      <td>Automatic 3-spd</td>\n",
       "      <td>Rear-Wheel Drive</td>\n",
       "      <td>Special Purpose Vehicle 2WD</td>\n",
       "      <td>Regular</td>\n",
       "      <td>25.354615</td>\n",
       "      <td>13</td>\n",
       "      <td>13</td>\n",
       "      <td>13</td>\n",
       "      <td>683.615385</td>\n",
       "      <td>2550</td>\n",
       "    </tr>\n",
       "    <tr>\n",
       "      <th>4</th>\n",
       "      <td>ASC Incorporated</td>\n",
       "      <td>GNX</td>\n",
       "      <td>1987</td>\n",
       "      <td>3.8</td>\n",
       "      <td>6.0</td>\n",
       "      <td>Automatic 4-spd</td>\n",
       "      <td>Rear-Wheel Drive</td>\n",
       "      <td>Midsize Cars</td>\n",
       "      <td>Premium</td>\n",
       "      <td>20.600625</td>\n",
       "      <td>14</td>\n",
       "      <td>21</td>\n",
       "      <td>16</td>\n",
       "      <td>555.437500</td>\n",
       "      <td>2550</td>\n",
       "    </tr>\n",
       "  </tbody>\n",
       "</table>\n",
       "</div>"
      ],
      "text/plain": [
       "               Make                Model  Year  Engine Displacement  \\\n",
       "0        AM General    DJ Po Vehicle 2WD  1984                  2.5   \n",
       "1        AM General     FJ8c Post Office  1984                  4.2   \n",
       "2        AM General  Post Office DJ5 2WD  1985                  2.5   \n",
       "3        AM General  Post Office DJ8 2WD  1985                  4.2   \n",
       "4  ASC Incorporated                  GNX  1987                  3.8   \n",
       "\n",
       "   Cylinders     Transmission        Drivetrain                Vehicle Class  \\\n",
       "0        4.0  Automatic 3-spd     2-Wheel Drive  Special Purpose Vehicle 2WD   \n",
       "1        6.0  Automatic 3-spd     2-Wheel Drive  Special Purpose Vehicle 2WD   \n",
       "2        4.0  Automatic 3-spd  Rear-Wheel Drive  Special Purpose Vehicle 2WD   \n",
       "3        6.0  Automatic 3-spd  Rear-Wheel Drive  Special Purpose Vehicle 2WD   \n",
       "4        6.0  Automatic 4-spd  Rear-Wheel Drive                 Midsize Cars   \n",
       "\n",
       "  Fuel Type  Fuel Barrels/Year  City MPG  Highway MPG  Combined MPG  \\\n",
       "0   Regular          19.388824        18           17            17   \n",
       "1   Regular          25.354615        13           13            13   \n",
       "2   Regular          20.600625        16           17            16   \n",
       "3   Regular          25.354615        13           13            13   \n",
       "4   Premium          20.600625        14           21            16   \n",
       "\n",
       "   CO2 Emission Grams/Mile  Fuel Cost/Year  \n",
       "0               522.764706            1950  \n",
       "1               683.615385            2550  \n",
       "2               555.437500            2100  \n",
       "3               683.615385            2550  \n",
       "4               555.437500            2550  "
      ]
     },
     "execution_count": 30,
     "metadata": {},
     "output_type": "execute_result"
    }
   ],
   "source": [
    "vehicles.head()"
   ]
  },
  {
   "cell_type": "code",
   "execution_count": 34,
   "metadata": {},
   "outputs": [
    {
     "data": {
      "image/png": "[encoded data removed]",
      "text/plain": [
       "<Figure size 432x288 with 1 Axes>"
      ]
     },
     "metadata": {
      "needs_background": "light"
     },
     "output_type": "display_data"
    }
   ],
   "source": [
    "# your code here\n",
    "vehicles['Fuel Barrels/Year'].hist(bins=50);\n"
   ]
  },
  {
   "cell_type": "markdown",
   "metadata": {},
   "source": [
    "2. CO2 Emission Grams/Mile "
   ]
  },
  {
   "cell_type": "code",
   "execution_count": 35,
   "metadata": {},
   "outputs": [
    {
     "data": {
      "image/png": "[encoded data removed]",
      "text/plain": [
       "<Figure size 432x288 with 1 Axes>"
      ]
     },
     "metadata": {
      "needs_background": "light"
     },
     "output_type": "display_data"
    }
   ],
   "source": [
    "# your code here\n",
    "vehicles['CO2 Emission Grams/Mile'].hist(bins=50);\n"
   ]
  },
  {
   "cell_type": "markdown",
   "metadata": {},
   "source": [
    "3. Combined MPG"
   ]
  },
  {
   "cell_type": "code",
   "execution_count": 36,
   "metadata": {},
   "outputs": [
    {
     "data": {
      "image/png": "[encoded data removed]",
      "text/plain": [
       "<Figure size 432x288 with 1 Axes>"
      ]
     },
     "metadata": {
      "needs_background": "light"
     },
     "output_type": "display_data"
    }
   ],
   "source": [
    "# your code here\n",
    "vehicles['Combined MPG'].hist(bins=50);"
   ]
  },
  {
   "cell_type": "markdown",
   "metadata": {},
   "source": [
    "Which one(s) of the variables are nearly normally distributed? How do you know?"
   ]
  },
  {
   "cell_type": "code",
   "execution_count": null,
   "metadata": {},
   "outputs": [],
   "source": [
    "# your answer here\n",
    "# la Combined MPG"
   ]
  },
  {
   "cell_type": "markdown",
   "metadata": {},
   "source": [
    "## Exponential Distribution"
   ]
  },
  {
   "cell_type": "markdown",
   "metadata": {},
   "source": [
    "1. Using `numpy.random.exponential`, create a function that returns a list of numbers exponentially distributed with the mean of 10. \n",
    "\n",
    "1. Use the function to generate two number sequences with the size of 1 and 100.\n",
    "\n",
    "1. Plot the distributions as histograms with the nubmer of bins as 100.\n",
    "\n",
    "Your output should look like below:\n",
    "\n",
    "![exponential distribution](ed.png)"
   ]
  },
  {
   "cell_type": "code",
   "execution_count": 56,
   "metadata": {},
   "outputs": [],
   "source": [
    "# your code here\n",
    "import numpy as np\n",
    "\n",
    "def expo_dist (lambd,count):\n",
    "    x = np.random.exponential(scale=lambd,size=count)\n",
    "    return x\n"
   ]
  },
  {
   "cell_type": "code",
   "execution_count": 74,
   "metadata": {},
   "outputs": [],
   "source": [
    "primer_expo = expo_dist(10, 100)\n",
    "segundo_expo = expo_dist(10, 1000)"
   ]
  },
  {
   "cell_type": "code",
   "execution_count": 75,
   "metadata": {},
   "outputs": [
    {
     "data": {
      "image/png": "[encoded data removed]",
      "text/plain": [
       "<Figure size 432x288 with 2 Axes>"
      ]
     },
     "metadata": {
      "needs_background": "light"
     },
     "output_type": "display_data"
    }
   ],
   "source": [
    "fig, ax = plt.subplots(1, 2, sharey=True)\n",
    "ax[0].hist(primer_expo, bins=100)\n",
    "ax[1].hist(segundo_expo, bins=100);"
   ]
  },
  {
   "cell_type": "markdown",
   "metadata": {},
   "source": [
    "How are the two distributions different?"
   ]
  },
  {
   "cell_type": "code",
   "execution_count": null,
   "metadata": {},
   "outputs": [],
   "source": [
    "# your answer here\n"
   ]
  },
  {
   "cell_type": "markdown",
   "metadata": {},
   "source": [
    "## Exponential Distribution of Real Data\n",
    "\n",
    "Suppose that the amount of time one spends in a bank is exponentially distributed with mean as 10 minutes (i.e. λ = 1/10). What is the probability that a customer will spend less than fifteen minutes in the bank? \n",
    "\n",
    "Write a code in python to solve this problem"
   ]
  },
  {
   "cell_type": "code",
   "execution_count": 114,
   "metadata": {},
   "outputs": [
    {
     "data": {
      "text/plain": [
       "0.7768698398515702"
      ]
     },
     "execution_count": 114,
     "metadata": {},
     "output_type": "execute_result"
    }
   ],
   "source": [
    "# your answer here\n",
    "from scipy.stats import expon\n",
    "# Hint: This is same as saying P(x<15)\n",
    "\n",
    "minutos = expon.cdf(x=15, scale=10)\n",
    "minutos"
   ]
  },
  {
   "cell_type": "markdown",
   "metadata": {},
   "source": [
    "What is the probability that the customer will spend more than 15 minutes"
   ]
  },
  {
   "cell_type": "code",
   "execution_count": null,
   "metadata": {},
   "outputs": [],
   "source": [
    "# your answer here"
   ]
  },
  {
   "cell_type": "code",
   "execution_count": 116,
   "metadata": {},
   "outputs": [
    {
     "data": {
      "text/plain": [
       "0.2231301601484298"
      ]
     },
     "execution_count": 116,
     "metadata": {},
     "output_type": "execute_result"
    }
   ],
   "source": [
    "1-minutos"
   ]
  },
  {
   "cell_type": "code",
   "execution_count": null,
   "metadata": {},
   "outputs": [],
   "source": []
  }
 ],
 "metadata": {
  "kernelspec": {
   "display_name": "Python 3 (ipykernel)",
   "language": "python",
   "name": "python3"
  },
  "language_info": {
   "codemirror_mode": {
    "name": "ipython",
    "version": 3
   },
   "file_extension": ".py",
   "mimetype": "text/x-python",
   "name": "python",
   "nbconvert_exporter": "python",
   "pygments_lexer": "ipython3",
   "version": "3.9.7"
  }
 },
 "nbformat": 4,
 "nbformat_minor": 2
}
